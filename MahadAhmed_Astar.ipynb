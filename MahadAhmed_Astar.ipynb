{
 "cells": [
  {
   "cell_type": "code",
   "execution_count": 1,
   "id": "df22c35b",
   "metadata": {},
   "outputs": [],
   "source": [
    "startpuzzle = [[0,1,3],[4,2,5],[7,8,6]]\n",
    "goalState = [[1,2,3],[4,5,6],[7,8,0]]"
   ]
  },
  {
   "cell_type": "code",
   "execution_count": 2,
   "id": "f13c4980",
   "metadata": {},
   "outputs": [],
   "source": [
    "import random\n",
    "import math\n",
    "import copy"
   ]
  },
  {
   "cell_type": "code",
   "execution_count": 3,
   "id": "a815602f",
   "metadata": {},
   "outputs": [],
   "source": [
    "def printPuzzle(board):\n",
    "    for row in board:\n",
    "        print(\"-------------\")\n",
    "        print(\"|\",row[0],\"|\",row[1],\"|\",row[2],\"|\")\n",
    "    print(\"-------------\")\n",
    "    print()"
   ]
  },
  {
   "cell_type": "code",
   "execution_count": 4,
   "id": "07a57f65",
   "metadata": {},
   "outputs": [
    {
     "name": "stdout",
     "output_type": "stream",
     "text": [
      "-------------\n",
      "| 0 | 1 | 3 |\n",
      "-------------\n",
      "| 4 | 2 | 5 |\n",
      "-------------\n",
      "| 7 | 8 | 6 |\n",
      "-------------\n",
      "\n"
     ]
    }
   ],
   "source": [
    "printPuzzle(startpuzzle)"
   ]
  },
  {
   "cell_type": "code",
   "execution_count": 5,
   "id": "b298ad21",
   "metadata": {},
   "outputs": [],
   "source": [
    "def calculateScoreForGrid(x1,y1,val):\n",
    "    indexes=[(0,0),(0,1),(0,2),(1,0),(1,1),(1,2),(2,0),(2,1)]\n",
    "    if val == 0:\n",
    "        return\n",
    "    x2,y2 = indexes[val-1]\n",
    "    score = abs(x1-x2) + abs(y1-y2)\n",
    "    return score"
   ]
  },
  {
   "cell_type": "code",
   "execution_count": 6,
   "id": "b9543f6f",
   "metadata": {},
   "outputs": [],
   "source": [
    "def calculateHeuristic(matrix):\n",
    "    sum = 0 \n",
    "    for i in range(0,3):\n",
    "        for j in range(0,3):\n",
    "            if matrix[i][j] == 0:\n",
    "                continue\n",
    "            num = calculateScoreForGrid(i,j,matrix[i][j])\n",
    "            sum = sum + num\n",
    "#             print(f\"Heuristic score for {i},{j} with val {matrix[i][j]} is {num}\")\n",
    "#             print(f\"Total Score so far is {sum}\\n\")\n",
    "    return sum"
   ]
  },
  {
   "cell_type": "code",
   "execution_count": 7,
   "id": "cef521d9",
   "metadata": {},
   "outputs": [],
   "source": [
    "def checkSolved(matrix):\n",
    "    if matrix == goalState:\n",
    "        return True\n",
    "    else:\n",
    "        return False"
   ]
  },
  {
   "cell_type": "code",
   "execution_count": 8,
   "id": "bf9e81d1",
   "metadata": {},
   "outputs": [],
   "source": [
    "def getZero(matrix):\n",
    "    for i in range(0,3):\n",
    "        for j in range(0,3):\n",
    "            if matrix[i][j]==0:\n",
    "                return i,j"
   ]
  },
  {
   "cell_type": "code",
   "execution_count": 9,
   "id": "5be0dde1",
   "metadata": {},
   "outputs": [],
   "source": [
    "def getMoves(i,j):\n",
    "    #TUPLE (U,D,L,R)\n",
    "    if i==0 and j==0:\n",
    "        return (-1,1,-1,1)\n",
    "    if i==0 and j==1:\n",
    "        return (-1,1,1,1)\n",
    "    if i==0 and j==2:\n",
    "        return (-1,1,1,-1)\n",
    "    if i==1 and j==0:\n",
    "        return (1,1,-1,1)\n",
    "    if i==1 and j==1:\n",
    "        return (1,1,1,1)\n",
    "    if i==1 and j==2:\n",
    "        return (1,1,1,-1)\n",
    "    if i==2 and j==0:\n",
    "        return (1,-1,-1,1)\n",
    "    if i==2 and j==1:\n",
    "        return (1,-1,1,1)\n",
    "    if i==2 and j==2:\n",
    "        return (1,-1,1,-1)"
   ]
  },
  {
   "cell_type": "code",
   "execution_count": 10,
   "id": "ea6c4f2a",
   "metadata": {},
   "outputs": [],
   "source": [
    "def moveX(board,r,c,direction):\n",
    "    board[r][c],board[r][c+direction]=board[r][c+direction],board[r][c]\n",
    "    return board"
   ]
  },
  {
   "cell_type": "code",
   "execution_count": 11,
   "id": "59fc2400",
   "metadata": {},
   "outputs": [],
   "source": [
    "def moveY(board,r,c,direction):\n",
    "    board[r][c],board[r+direction][c]=board[r+direction][c],board[r][c]\n",
    "    return board"
   ]
  },
  {
   "cell_type": "code",
   "execution_count": 294,
   "id": "b2824801",
   "metadata": {},
   "outputs": [],
   "source": [
    "def solvePuzzle(puzzle):\n",
    "    print(\"Starting Puzzle\",puzzle)\n",
    "    best_move = 99\n",
    "    count = 0\n",
    "    while(not checkSolved(puzzle)):\n",
    "        zero_i ,zero_j = getZero(puzzle)\n",
    "        print(\"indexes\",zero_i,zero_j)\n",
    "        up,down,left,right = getMoves(zero_i,zero_j)\n",
    "        board2=copy.deepcopy(puzzle)\n",
    "        board3=copy.deepcopy(puzzle)\n",
    "        board4=copy.deepcopy(puzzle)\n",
    "        board5=copy.deepcopy(puzzle)\n",
    "        if(up==1):\n",
    "            print(\"Puzzle: \",board2)\n",
    "            board2 = moveY(board2,zero_i,zero_j,-1)\n",
    "            print(\"Board2: \",board2)\n",
    "            current_move = calculateHeuristic(board2)\n",
    "            print(f\"Going Up with score {current_move}\")\n",
    "            if(current_move<best_move):\n",
    "                best_move = current_move\n",
    "                best_board=board2\n",
    "        if(down==1):\n",
    "            print(\"Puzzle: \",board3)\n",
    "            board3 = moveY(board3,zero_i,zero_j,1)\n",
    "            print(\"Board3: \",board3)\n",
    "            current_move = calculateHeuristic(board3)\n",
    "            print(f\"Going down with score {current_move}\")\n",
    "            if(current_move<best_move):\n",
    "                best_move = current_move\n",
    "                best_board=board3\n",
    "        if(left==1):\n",
    "            print(\"Puzzle: \",board4)\n",
    "            board4 = moveX(board4,zero_i,zero_j,-1)\n",
    "            print(\"Board4: \",board4)\n",
    "            current_move = calculateHeuristic(board4)\n",
    "            print(f\"Going left with score {current_move}\")\n",
    "            if(current_move<best_move):\n",
    "                best_move = current_move\n",
    "                best_board=board4\n",
    "        if(right==1):\n",
    "            print(\"Puzzle: \",board5)\n",
    "            board5 = moveX(board5,zero_i,zero_j,1)\n",
    "            print(\"Board5: \",board5)\n",
    "            current_move = calculateHeuristic(board5)\n",
    "            print(f\"Going right with score {current_move}\")\n",
    "            if(current_move<best_move):\n",
    "                best_move = current_move\n",
    "                best_board=board5\n",
    "        print(f\"Best Move is: {best_move}\")\n",
    "        print(f\"Best board is: {best_board}\")\n",
    "        puzzle = best_board\n",
    "        count = count + 1\n",
    "    print(\"\\n\\nFinal State is \" )\n",
    "    printPuzzle(puzzle)\n",
    "    print(f\"\\nIterations took : {count}\")"
   ]
  },
  {
   "cell_type": "code",
   "execution_count": 295,
   "id": "e6a281c7",
   "metadata": {},
   "outputs": [
    {
     "name": "stdout",
     "output_type": "stream",
     "text": [
      "Starting Puzzle [[0, 1, 3], [4, 2, 5], [7, 8, 6]]\n",
      "indexes 0 0\n",
      "Puzzle:  [[0, 1, 3], [4, 2, 5], [7, 8, 6]]\n",
      "Board3:  [[4, 1, 3], [0, 2, 5], [7, 8, 6]]\n",
      "Going down with score 5\n",
      "Puzzle:  [[0, 1, 3], [4, 2, 5], [7, 8, 6]]\n",
      "Board5:  [[1, 0, 3], [4, 2, 5], [7, 8, 6]]\n",
      "Going right with score 3\n",
      "Best Move is: 3\n",
      "Best board is: [[1, 0, 3], [4, 2, 5], [7, 8, 6]]\n",
      "indexes 0 1\n",
      "Puzzle:  [[1, 0, 3], [4, 2, 5], [7, 8, 6]]\n",
      "Board3:  [[1, 2, 3], [4, 0, 5], [7, 8, 6]]\n",
      "Going down with score 2\n",
      "Puzzle:  [[1, 0, 3], [4, 2, 5], [7, 8, 6]]\n",
      "Board4:  [[0, 1, 3], [4, 2, 5], [7, 8, 6]]\n",
      "Going left with score 4\n",
      "Puzzle:  [[1, 0, 3], [4, 2, 5], [7, 8, 6]]\n",
      "Board5:  [[1, 3, 0], [4, 2, 5], [7, 8, 6]]\n",
      "Going right with score 4\n",
      "Best Move is: 2\n",
      "Best board is: [[1, 2, 3], [4, 0, 5], [7, 8, 6]]\n",
      "indexes 1 1\n",
      "Puzzle:  [[1, 2, 3], [4, 0, 5], [7, 8, 6]]\n",
      "Board2:  [[1, 0, 3], [4, 2, 5], [7, 8, 6]]\n",
      "Going Up with score 3\n",
      "Puzzle:  [[1, 2, 3], [4, 0, 5], [7, 8, 6]]\n",
      "Board3:  [[1, 2, 3], [4, 8, 5], [7, 0, 6]]\n",
      "Going down with score 3\n",
      "Puzzle:  [[1, 2, 3], [4, 0, 5], [7, 8, 6]]\n",
      "Board4:  [[1, 2, 3], [0, 4, 5], [7, 8, 6]]\n",
      "Going left with score 3\n",
      "Puzzle:  [[1, 2, 3], [4, 0, 5], [7, 8, 6]]\n",
      "Board5:  [[1, 2, 3], [4, 5, 0], [7, 8, 6]]\n",
      "Going right with score 1\n",
      "Best Move is: 1\n",
      "Best board is: [[1, 2, 3], [4, 5, 0], [7, 8, 6]]\n",
      "indexes 1 2\n",
      "Puzzle:  [[1, 2, 3], [4, 5, 0], [7, 8, 6]]\n",
      "Board2:  [[1, 2, 0], [4, 5, 3], [7, 8, 6]]\n",
      "Going Up with score 2\n",
      "Puzzle:  [[1, 2, 3], [4, 5, 0], [7, 8, 6]]\n",
      "Board3:  [[1, 2, 3], [4, 5, 6], [7, 8, 0]]\n",
      "Going down with score 0\n",
      "Puzzle:  [[1, 2, 3], [4, 5, 0], [7, 8, 6]]\n",
      "Board4:  [[1, 2, 3], [4, 0, 5], [7, 8, 6]]\n",
      "Going left with score 2\n",
      "Best Move is: 0\n",
      "Best board is: [[1, 2, 3], [4, 5, 6], [7, 8, 0]]\n",
      "\n",
      "\n",
      "Final State is \n",
      "-------------\n",
      "| 1 | 2 | 3 |\n",
      "-------------\n",
      "| 4 | 5 | 6 |\n",
      "-------------\n",
      "| 7 | 8 | 0 |\n",
      "-------------\n",
      "\n",
      "\n",
      "Iterations took : 4\n"
     ]
    }
   ],
   "source": [
    "solvePuzzle(startpuzzle)"
   ]
  },
  {
   "cell_type": "code",
   "execution_count": null,
   "id": "74b42203",
   "metadata": {},
   "outputs": [],
   "source": []
  },
  {
   "cell_type": "code",
   "execution_count": null,
   "id": "0479460d",
   "metadata": {},
   "outputs": [],
   "source": []
  }
 ],
 "metadata": {
  "kernelspec": {
   "display_name": "Python 3 (ipykernel)",
   "language": "python",
   "name": "python3"
  },
  "language_info": {
   "codemirror_mode": {
    "name": "ipython",
    "version": 3
   },
   "file_extension": ".py",
   "mimetype": "text/x-python",
   "name": "python",
   "nbconvert_exporter": "python",
   "pygments_lexer": "ipython3",
   "version": "3.9.16"
  }
 },
 "nbformat": 4,
 "nbformat_minor": 5
}
