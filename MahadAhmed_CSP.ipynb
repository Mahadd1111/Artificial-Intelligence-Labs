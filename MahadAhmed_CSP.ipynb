{
 "cells": [
  {
   "cell_type": "code",
   "execution_count": 1,
   "id": "e300b2b2",
   "metadata": {},
   "outputs": [],
   "source": [
    "# N- Queens Constraint satisfaction problem using backtracking"
   ]
  },
  {
   "cell_type": "code",
   "execution_count": 1,
   "id": "f4775558",
   "metadata": {},
   "outputs": [],
   "source": [
    "import copy\n",
    "from copy import deepcopy\n",
    "import random   \n",
    "import numpy as np"
   ]
  },
  {
   "cell_type": "code",
   "execution_count": 2,
   "id": "0587a682",
   "metadata": {},
   "outputs": [],
   "source": [
    "nums = 4"
   ]
  },
  {
   "cell_type": "code",
   "execution_count": 3,
   "id": "bf22f93b",
   "metadata": {},
   "outputs": [],
   "source": [
    "def is_board_empty(b):\n",
    "    flag = True\n",
    "    for i in range(len(b)):\n",
    "        if b[i] != -1:\n",
    "            flag = False\n",
    "    return flag"
   ]
  },
  {
   "cell_type": "code",
   "execution_count": 4,
   "id": "b9baa116",
   "metadata": {},
   "outputs": [],
   "source": [
    "def print_board(board):\n",
    "    for i in range(n):\n",
    "        for j in range(n):\n",
    "            print(board[i][j], end=' ')\n",
    "        print()"
   ]
  },
  {
   "cell_type": "code",
   "execution_count": null,
   "id": "a8b8345c",
   "metadata": {},
   "outputs": [],
   "source": []
  },
  {
   "cell_type": "code",
   "execution_count": 5,
   "id": "8edcde60",
   "metadata": {},
   "outputs": [],
   "source": [
    "def generate_grid_population(qp):\n",
    "    grid = [[0 for j in range(n)]for i in range(n)]\n",
    "    if is_board_empty(qp):\n",
    "        for i in range(n):\n",
    "            for j in range(n):\n",
    "                grid[i][j]='-'\n",
    "    else:\n",
    "        for i in range(n):\n",
    "            if qp[i]==-1:\n",
    "                for j in range(n):\n",
    "                    grid[i][j]='-'\n",
    "            else: \n",
    "                for j in range(n):\n",
    "                    grid[i][j]='-'\n",
    "                val = qp[i]\n",
    "                grid[i][val]='Q'\n",
    "    return grid\n",
    "\n",
    "# b1 = [0,3,-1,-1]\n",
    "# board = generate_grid_population(b1)\n",
    "# print_board(board)"
   ]
  },
  {
   "cell_type": "code",
   "execution_count": 6,
   "id": "fba7f0cf",
   "metadata": {},
   "outputs": [],
   "source": [
    "def generate_children(qp):\n",
    "    children=[]\n",
    "    n=len(qp)\n",
    "    # Check which row to add the queen to \n",
    "    row = 0\n",
    "    for i in range(n):\n",
    "        if (qp[i]== -1):\n",
    "            row = i\n",
    "            break\n",
    "        if( i == 3):\n",
    "            row = -1\n",
    "    # get Parent board\n",
    "    currentParent = generate_grid_population(qp)\n",
    "    print_board(currentParent)\n",
    "    #generate children\n",
    "    for i in range(n):\n",
    "        if currentParent[row][i]=='-':\n",
    "            b1 = [0 for j in range(n)]\n",
    "            for k in range(n):\n",
    "                b1[k]=qp[k]\n",
    "            b1[row]=i\n",
    "        children.append(b1)\n",
    "#     for child in children:\n",
    "#         print(child)\n",
    "#         print()\n",
    "    return children\n",
    "        \n",
    "# generate_children([-1,-1,-1,-1])"
   ]
  },
  {
   "cell_type": "code",
   "execution_count": 124,
   "id": "b01f0cfe",
   "metadata": {},
   "outputs": [],
   "source": [
    "def check_constraint(board,row,col):\n",
    "\n",
    "    if col >= len(board):\n",
    "        return True\n",
    "\n",
    "    #check row\n",
    "    for i in range(len(board)):\n",
    "        if board[row][i] == 'Q':\n",
    "            return False\n",
    "\n",
    "    # check col\n",
    "    for i in range(len(board)):\n",
    "        if board[i][col] == 'Q':\n",
    "            return False\n",
    "\n",
    "\n",
    "    # Check top-left to bottom-right diagonal\n",
    "    i, j = row, col\n",
    "    while i >= 0 and j >= 0:\n",
    "        if board[i][j] == 'Q':\n",
    "            return False\n",
    "        i -= 1\n",
    "        j -= 1\n",
    "    i, j = row, col\n",
    "    while i < len(board) and j < len(board):\n",
    "        if board[i][j] == 'Q':\n",
    "            return False\n",
    "        i += 1\n",
    "        j += 1\n",
    "\n",
    "    # Check top-right to bottom-left diagonal\n",
    "    i, j = row, col\n",
    "    while i >= 0 and j < len(board):\n",
    "        if board[i][j] == 'Q':\n",
    "            return False\n",
    "        i -= 1\n",
    "        j += 1\n",
    "    i, j = row, col\n",
    "    while i < len(board) and j >= 0:\n",
    "        if board[i][j] == 'Q':\n",
    "            return False\n",
    "        i += 1\n",
    "        j -= 1\n",
    "\n",
    "    return True"
   ]
  },
  {
   "cell_type": "code",
   "execution_count": 125,
   "id": "ca0127a8",
   "metadata": {},
   "outputs": [
    {
     "name": "stdout",
     "output_type": "stream",
     "text": [
      "- Q - - \n",
      "- - - Q \n",
      "Q - - - \n",
      "- - Q - \n"
     ]
    }
   ],
   "source": [
    "def solve_n_queen(board, row):\n",
    "    # Base case: all queens have been placed\n",
    "    if row == len(board):\n",
    "        return True, board\n",
    "\n",
    "    # Try placing a queen in each col of the current row\n",
    "    for col in range(len(board)):\n",
    "        if check_constraint(board, row, col):\n",
    "            board[row][col] = 'Q'\n",
    "            # Recursively place queens in the remaining rows\n",
    "            success, solution = solve_n_queen(board, row+1)\n",
    "            if success:\n",
    "                return True, solution\n",
    "            # If the placement of the current queen does not lead to a solution,\n",
    "            board[row][col] = '-'\n",
    "\n",
    "    # If no valid placement is found, return False\n",
    "    return False, None\n",
    "\n",
    "qp= [-1,-1,-1,-1]\n",
    "board= generate_grid_population(qp)\n",
    "solution,board = solve_n_queen(board,0)\n",
    "print_board(board)\n",
    "    "
   ]
  },
  {
   "cell_type": "code",
   "execution_count": null,
   "id": "48c4b5e7",
   "metadata": {},
   "outputs": [],
   "source": []
  },
  {
   "cell_type": "code",
   "execution_count": null,
   "id": "caafd3ce",
   "metadata": {},
   "outputs": [],
   "source": []
  }
 ],
 "metadata": {
  "kernelspec": {
   "display_name": "Python 3 (ipykernel)",
   "language": "python",
   "name": "python3"
  },
  "language_info": {
   "codemirror_mode": {
    "name": "ipython",
    "version": 3
   },
   "file_extension": ".py",
   "mimetype": "text/x-python",
   "name": "python",
   "nbconvert_exporter": "python",
   "pygments_lexer": "ipython3",
   "version": "3.9.16"
  }
 },
 "nbformat": 4,
 "nbformat_minor": 5
}
