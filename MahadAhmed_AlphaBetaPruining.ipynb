{
 "cells": [
  {
   "cell_type": "markdown",
   "metadata": {},
   "source": [
    "# Tic Tac Toe: Using Minimax and Alpha-Beta Pruning"
   ]
  },
  {
   "cell_type": "markdown",
   "metadata": {},
   "source": [
    "### Necessary Imports"
   ]
  },
  {
   "cell_type": "code",
   "execution_count": 1,
   "metadata": {},
   "outputs": [],
   "source": [
    "import copy\n",
    "import math\n",
    "import random"
   ]
  },
  {
   "cell_type": "markdown",
   "metadata": {},
   "source": [
    "### Base Variables"
   ]
  },
  {
   "cell_type": "code",
   "execution_count": 2,
   "metadata": {},
   "outputs": [],
   "source": [
    "X = \"X\"\n",
    "O = \"O\"\n",
    "EMPTY = None"
   ]
  },
  {
   "cell_type": "markdown",
   "metadata": {},
   "source": [
    "### Some Fundamental Functionlity"
   ]
  },
  {
   "cell_type": "code",
   "execution_count": 3,
   "metadata": {},
   "outputs": [],
   "source": [
    "# Returns starting state of the board.\n",
    "def initial_state():\n",
    "    return [[EMPTY, EMPTY, EMPTY],[EMPTY, EMPTY, EMPTY],[EMPTY, EMPTY, EMPTY]]"
   ]
  },
  {
   "cell_type": "code",
   "execution_count": 4,
   "metadata": {},
   "outputs": [],
   "source": [
    "# Returns player 'X' or 'O' who has the next turn on a board.\n",
    "def player(board):\n",
    "    count = sum([1 for row in board for cell in row if cell])\n",
    "    return 'O' if count % 2 else 'X'"
   ]
  },
  {
   "cell_type": "code",
   "execution_count": 5,
   "metadata": {},
   "outputs": [],
   "source": [
    "# Returns set of all possible actions (i, j) available on the board.\n",
    "def actions(board):\n",
    "    res = set()\n",
    "    for i, r in enumerate(board):\n",
    "        res.update((i, j) for j, c in enumerate(r) if c == EMPTY)\n",
    "    return res"
   ]
  },
  {
   "cell_type": "code",
   "execution_count": 6,
   "metadata": {},
   "outputs": [],
   "source": [
    "# Returns the board that results from making move (i, j) on the board.\n",
    "def result(board, action):\n",
    "    curr_player = player(board)\n",
    "    new_board = [row[:] for row in board]\n",
    "    new_board[action[0]][action[1]] = curr_player\n",
    "    return new_board"
   ]
  },
  {
   "cell_type": "code",
   "execution_count": 7,
   "metadata": {},
   "outputs": [],
   "source": [
    "# Returns the winner of the game, if a player is present at three consecutive horizontal boxes.\n",
    "def get_horizontal_winner(board):\n",
    "    for row in board:\n",
    "        if all(cell == row[0] and cell is not None for cell in row):\n",
    "            return row[0]\n",
    "    return None"
   ]
  },
  {
   "cell_type": "code",
   "execution_count": 8,
   "metadata": {},
   "outputs": [],
   "source": [
    "# Returns the winner of the game, if a player is present at three consecutive vertical boxes.\n",
    "def get_vertical_winner(board):\n",
    "    for col in range(len(board[0])):\n",
    "        if all(board[row][col] == board[0][col] for row in range(len(board))):\n",
    "            return board[0][col]\n",
    "    return None"
   ]
  },
  {
   "cell_type": "code",
   "execution_count": 9,
   "metadata": {},
   "outputs": [],
   "source": [
    "# Returns the winner of the game, if a player is present at three consecutive diagonal boxes.\n",
    "def get_diagonal_winner(board):\n",
    "    # Check main diagonals\n",
    "    if all(board[i][i] == board[0][0] for i in range(len(board))):\n",
    "        return board[0][0]\n",
    "    # Check flipped diagonals\n",
    "    if all(board[i][len(board)-1-i] == board[0][len(board)-1] for i in range(len(board))):\n",
    "        return board[0][len(board)-1]\n",
    "    return None"
   ]
  },
  {
   "cell_type": "code",
   "execution_count": 10,
   "metadata": {},
   "outputs": [],
   "source": [
    "# Returns the winner of the game, if any.\n",
    "def winner(board):\n",
    "    return get_horizontal_winner(board) or get_vertical_winner(board) or get_diagonal_winner(board) or None"
   ]
  },
  {
   "cell_type": "code",
   "execution_count": 11,
   "metadata": {},
   "outputs": [],
   "source": [
    "# Returns True if game is over, False otherwise.\n",
    "def terminal(board):\n",
    "    if winner(board):\n",
    "        return True\n",
    "    if any(EMPTY in row for row in board):\n",
    "        return False\n",
    "    return True"
   ]
  },
  {
   "cell_type": "code",
   "execution_count": 12,
   "metadata": {},
   "outputs": [],
   "source": [
    "# Returns 1 if 'X' has won, -1 if 'O' has won, 0 otherwise.\n",
    "def utility(board):\n",
    "    winner_val = winner(board)\n",
    "    if winner_val == X:\n",
    "        return 1\n",
    "    elif winner_val == O:\n",
    "        return -1\n",
    "    return 0"
   ]
  },
  {
   "cell_type": "markdown",
   "metadata": {},
   "source": [
    "# MinMax Algorithm"
   ]
  },
  {
   "cell_type": "markdown",
   "metadata": {},
   "source": [
    "- The `max_val` function takes a `board` as input and returns the maximum possible value that the current player can achieve from the given board state. It recursively evaluates all the possible moves that can be made by the current player and returns the maximum value from the minimum values returned by the opponent.\n",
    "\n",
    "- If the given `board` is already in a terminal state (i.e., the game is over), the `utility` function is called to determine the score of the terminal state.\n",
    "\n",
    "- The function then initializes a variable `v` to negative infinity, which will be used to store the maximum value found so far. It then iterates over all the possible actions that can be taken from the current `board` state, and for each action, it calls the min_val function on the resulting board state. The `min_val` function will return the minimum value that the opponent can achieve from the resulting state. The `max` function is then used to update the `   ` variable to the maximum value between the current `v` and the minimum value returned by `min_val`. Finally, the function returns the maximum value found."
   ]
  },
  {
   "cell_type": "code",
   "execution_count": 13,
   "metadata": {},
   "outputs": [],
   "source": [
    "def max_val(board):\n",
    "    # Get max-value\n",
    "    if terminal(board):\n",
    "        return utility(board)\n",
    "    val = float('-inf')\n",
    "    for action in actions(board):\n",
    "        val = max(val,min_val(result(board,action)))\n",
    "    return value"
   ]
  },
  {
   "cell_type": "markdown",
   "metadata": {},
   "source": [
    "- The `min_val` function is similar to the `max_val` function, but instead of returning the maximum value that the current player can achieve, it returns the minimum value that the opponent can achieve. It does this by recursively evaluating all the possible moves that the opponent can make and returns the minimum value from the maximum values returned by the current player.\n",
    "\n",
    "- If the given `board` is already in a terminal state (i.e., the game is over), the `utility` function is called to determine the score of the terminal state.\n",
    "\n",
    "- The function initializes a variable `v` to positive infinity, which will be used to store the minimum value found so far. It then iterates over all the possible actions that can be taken from the current `board` state, and for each action, it calls the `max_val` function on the resulting board state. The `max_val` function will return the maximum value that the current player can achieve from the resulting state. The `min` function is then used to update the `v` variable to the minimum value between the current `v` and the maximum value returned by `max_val`. Finally, the function returns the minimum value found.\n"
   ]
  },
  {
   "cell_type": "code",
   "execution_count": 14,
   "metadata": {},
   "outputs": [],
   "source": [
    "def min_val(board):\n",
    "    # Get min-value\n",
    "    if terminal(board):\n",
    "        return utility(board)\n",
    "    val = float('inf')\n",
    "    for action in actions(board):\n",
    "        val = min(val,max_val(result(board,action)))\n",
    "    return v"
   ]
  },
  {
   "cell_type": "markdown",
   "metadata": {},
   "source": [
    "- An implementation of the minimax algorithm for the game of Tic Tac Toe. The algorithm is used to determine the best move for the current player in the game. The function `minimax(board)` takes a `board` as input and returns the best move for the current player.\n",
    "\n",
    "- The function first checks if the `board` is the initial state of the game. If it is, then it returns a random move. Otherwise, it determines the current player and initializes the `action_to_return` variable to `None`.\n",
    "\n",
    "- If the current player is `X`, then the function initializes the `val` variable to negative infinity and iterates over all the possible actions that can be taken on the `board`. For each action, it calls the `min_val` function on the result of applying the action to the `board`. If the resulting value is greater than `val`, then `val` is updated to the resulting value and the `action_to_return` variable is set to the current action.\n",
    "\n",
    "- If the current player is `O`, then the function initializes the `val` variable to positive infinity and iterates over all the possible actions that can be taken on the `board`. For each action, it calls the `max_val` function on the result of applying the action to the `board`. If the resulting value is less than `val`, then `val` is updated to the resulting value and the `action_to_return` variable is set to the current action.\n",
    "\n",
    "- Finally, the function returns the `action_to_return` variable, which is the best move for the current player."
   ]
  },
  {
   "cell_type": "code",
   "execution_count": 15,
   "metadata": {},
   "outputs": [],
   "source": [
    "def minimax(board):\n",
    "    # Check if the board is the initial state\n",
    "    if terminal(board):\n",
    "        return None\n",
    "    \n",
    "    # Return a random move\n",
    "   \n",
    "    \n",
    "    # Determine the current player\n",
    "    current_player = player(board)\n",
    "    \n",
    "    # Initialize the action_to_return variable to None\n",
    "    action_to_return = None\n",
    "    value = None\n",
    "    \n",
    "    # If the current player is X\n",
    "    # Initialize the val variable to negative infinity\n",
    "    # Iterate over all the possible actions that can be taken on the board\n",
    "    # Call the min_val function on the result of applying the action to the board\n",
    "    # If the resulting value is greater than val, update val and action_to_return\n",
    "    \n",
    "    if current_player == X:\n",
    "        value =  float('-inf')\n",
    "        for action in actions(board):\n",
    "            v = min_val(result(board,action))\n",
    "            if v>value:\n",
    "                value = v\n",
    "                action_to_return = action\n",
    "    \n",
    "    # If the current player is O\n",
    "    # Initialize the val variable to positive infinity\n",
    "    # Iterate over all the possible actions that can be taken on the board\n",
    "    # Call the max_val function on the result of applying the action to the board\n",
    "    # If the resulting value is less than val, update val and action_to_return\n",
    "    \n",
    "    else:\n",
    "        value = float('inf')\n",
    "        for action in actions(board):\n",
    "            v = max_val(result(board,action))\n",
    "            if v <value:\n",
    "                value = v\n",
    "                action_to_return = action\n",
    "    \n",
    "    \n",
    "    # Return the best move for the current player\n",
    "    \n",
    "    return action_to_return"
   ]
  },
  {
   "cell_type": "markdown",
   "metadata": {},
   "source": [
    "# Alpha-Beta-Prunning Algorithm"
   ]
  },
  {
   "cell_type": "markdown",
   "metadata": {},
   "source": [
    "- The alpha-beta pruning algorithm for the game of Tic Tac Toe is used to determine the best move for the current player in the game. The function `alpha_beta_pruining(board)` takes a `board` as input and returns the best move for the current player. \n",
    "\n",
    "- The function first initializes the `alpha` variable to negative infinity and the `beta` variable to positive infinity. It then checks if the `board` is the initial state of the game. If it is, then it returns a random move. Otherwise, it determines the current player and initializes the `action_to_return` variable to `None`. \n",
    "\n",
    "- If the current player is `X`, then the function initializes the `val` variable to negative infinity and iterates over all the possible actions that can be taken on the `board`. For each action, it checks if `alpha` is less than `beta`. If it is, then it calls the `min_val` function on the result of applying the action to the `board` with `alpha` and `beta` as additional arguments. If the resulting value is greater than `val`, then `val` is updated to the resulting value and the `action_to_return` variable is set to the current action. If `val` is less than `beta`, then `beta` is updated to `val`.\n",
    "\n",
    "- If the current player is `O`, then the function initializes the `val` variable to positive infinity and iterates over all the possible actions that can be taken on the `board`. For each action, it checks if `alpha` is less than `beta`. If it is, then it calls the `max_val` function on the result of applying the action to the `board` with `alpha` and `beta` as additional arguments. If the resulting value is less than `val`, then `val` is updated to the resulting value and the `action_to_return` variable is set to the current action. If `val` is greater than `alpha`, then `alpha` is updated to `val`.\n",
    "\n",
    "- Finally, the function returns the `action_to_return` variable, which is the best move for the current player.\n"
   ]
  },
  {
   "cell_type": "code",
   "execution_count": 16,
   "metadata": {},
   "outputs": [],
   "source": [
    "def max_val(board,alpha,beta):\n",
    "    if terminal(board):\n",
    "        return utility(board)\n",
    "    val = float('-inf')\n",
    "    for action in actions(board):\n",
    "        val = max(val,min_val(result(board,action),alpha,beta))\n",
    "        if val >= beta:\n",
    "            return val\n",
    "        alpha = max(alpha,val)\n",
    "    return val\n",
    "\n",
    "def min_val(board,alpha,beta):\n",
    "    if terminal(board):\n",
    "        return utility(board)\n",
    "    val = float('inf')\n",
    "    for action in actions(board):\n",
    "        val = min(val,max_val(result(board,action),alpha,beta))\n",
    "        if val <= alpha:\n",
    "            return val\n",
    "        beta = max(beta,val)\n",
    "    return val\n",
    "    \n",
    "\n",
    "\n",
    "def alpha_beta_pruining(board):\n",
    "    # Initialize alpha to negative infinity and beta to positive infinity\n",
    "    alpha = float('-inf')\n",
    "    beta = float('inf')\n",
    "    \n",
    "    # Check if the board is the initial state\n",
    "    if terminal(board):\n",
    "        return None\n",
    "    \n",
    "    # Return a random move\n",
    "    value = None\n",
    "    \n",
    "    # Determine the current player\n",
    "    current_player = player(board)\n",
    "    \n",
    "    # Initialize the action_to_return variable to None\n",
    "    action_to_return = None\n",
    "    \n",
    "    # If the current player is X\n",
    "    # Initialize the val variable to negative infinity\n",
    "    # Iterate over all the possible actions that can be taken on the board\n",
    "    # Check if alpha is less than beta\n",
    "    # Call the min_val function on the result of applying the action to the board with alpha and beta as additional arguments\n",
    "    # If the resulting value is greater than val, update val and action_to_return\n",
    "    # If val is less than beta, update beta\n",
    "    if current_player == X:\n",
    "        value = float(\"-inf\")\n",
    "        for action in actions(board):\n",
    "            v = min_val(result(board, action), alpha, beta)\n",
    "            if(v > value):\n",
    "                value = v\n",
    "                action_to_return = action\n",
    "            alpha = max(alpha, v)\n",
    "            \n",
    "    # If the current player is O\n",
    "    # Initialize the val variable to positive infinity\n",
    "    # Iterate over all the possible actions that can be taken on the board\n",
    "    # Check if alpha is less than beta\n",
    "    # Call the max_val function on the result of applying the action to the board with alpha and beta as additional arguments\n",
    "    # If the resulting value is less than val, update val and action_to_return\n",
    "    # If val is greater than alpha, update alpha\n",
    "    else:\n",
    "        value = float(\"inf\")\n",
    "        for action in actions(board):\n",
    "            v = max_val(result(board, action), alpha, beta)\n",
    "            if(v < value):\n",
    "                value = v\n",
    "                action_to_return = action\n",
    "            beta = min(beta, v)\n",
    "    \n",
    "    # Return the action_to_return variable\n",
    "    return action_to_return\n",
    "    "
   ]
  },
  {
   "cell_type": "markdown",
   "metadata": {},
   "source": [
    "# Running Script"
   ]
  },
  {
   "cell_type": "markdown",
   "metadata": {},
   "source": [
    "- Code implementation of the game of Tic Tac Toe. The code starts by initializing the `user` variable to `None` and the `board` variable to the initial state of the game. It then sets the `ai_turn` variable to `False` and prompts the user to choose a player. \n",
    "\n",
    "- The code then enters a loop that continues until the game is over. In each iteration of the loop, it checks if the game is over by calling the `terminal` function on the `board`. If the game is over, it prints the result of the game and breaks out of the loop. Otherwise, it determines the current player by calling the `player` function on the `board` and prints the current player and the user.\n",
    "\n",
    "- If the game is not over and the current player is not the user, then the code sets the `ai_turn` variable to `True` and selects a move for the AI player by calling the `minimax` function on the `board`. It then applies the selected move to the `board` by calling the `result` function on the `board` and the selected move. Finally, it sets the `ai_turn` variable to `False` and prints the updated `board`.\n",
    "\n",
    "- If the game is not over and the current player is the user, then the code sets the `ai_turn` variable to `True` and prompts the user to enter the position to move. It then applies the selected move to the `board` by calling the `result` function on the `board` and the selected move. Finally, it prints the updated `board`."
   ]
  },
  {
   "cell_type": "code",
   "execution_count": 17,
   "metadata": {},
   "outputs": [
    {
     "name": "stdout",
     "output_type": "stream",
     "text": [
      "Choose to Play as X or O : X\n",
      "\n",
      "[None, None, None]\n",
      "[None, None, None]\n",
      "[None, None, None]\n",
      "\n",
      "Possible Actions are:  {(0, 1), (1, 2), (2, 1), (0, 0), (1, 1), (2, 0), (0, 2), (2, 2), (1, 0)}\n",
      "\n",
      "AI's Turn....\n",
      "\n",
      "[None, 'X', None]\n",
      "[None, None, None]\n",
      "[None, None, None]\n",
      "\n",
      "Possible Actions are:  {(1, 2), (2, 1), (0, 0), (1, 1), (2, 0), (0, 2), (2, 2), (1, 0)}\n",
      "\n",
      "Player Turn...\n",
      "Enter your Row: 1,2\n"
     ]
    },
    {
     "ename": "ValueError",
     "evalue": "invalid literal for int() with base 10: '1,2'",
     "output_type": "error",
     "traceback": [
      "\u001b[1;31m---------------------------------------------------------------------------\u001b[0m",
      "\u001b[1;31mValueError\u001b[0m                                Traceback (most recent call last)",
      "\u001b[1;32m~\\AppData\\Local\\Temp\\ipykernel_8792\\3104890981.py\u001b[0m in \u001b[0;36m<module>\u001b[1;34m\u001b[0m\n\u001b[0;32m     29\u001b[0m         \u001b[1;32melse\u001b[0m\u001b[1;33m:\u001b[0m\u001b[1;33m\u001b[0m\u001b[1;33m\u001b[0m\u001b[0m\n\u001b[0;32m     30\u001b[0m             \u001b[0mprint\u001b[0m\u001b[1;33m(\u001b[0m\u001b[1;34m\"Player Turn...\"\u001b[0m\u001b[1;33m)\u001b[0m\u001b[1;33m\u001b[0m\u001b[1;33m\u001b[0m\u001b[0m\n\u001b[1;32m---> 31\u001b[1;33m             \u001b[0mrow\u001b[0m \u001b[1;33m=\u001b[0m \u001b[0mint\u001b[0m\u001b[1;33m(\u001b[0m\u001b[0minput\u001b[0m\u001b[1;33m(\u001b[0m\u001b[1;34m\"Enter your Row: \"\u001b[0m\u001b[1;33m)\u001b[0m\u001b[1;33m)\u001b[0m\u001b[1;33m\u001b[0m\u001b[1;33m\u001b[0m\u001b[0m\n\u001b[0m\u001b[0;32m     32\u001b[0m             \u001b[0mcol\u001b[0m \u001b[1;33m=\u001b[0m \u001b[0mint\u001b[0m\u001b[1;33m(\u001b[0m\u001b[0minput\u001b[0m\u001b[1;33m(\u001b[0m\u001b[1;34m\"Enter your Col: \"\u001b[0m\u001b[1;33m)\u001b[0m\u001b[1;33m)\u001b[0m\u001b[1;33m\u001b[0m\u001b[1;33m\u001b[0m\u001b[0m\n\u001b[0;32m     33\u001b[0m             \u001b[0maction\u001b[0m \u001b[1;33m=\u001b[0m \u001b[1;33m(\u001b[0m\u001b[0mrow\u001b[0m\u001b[1;33m,\u001b[0m\u001b[0mcol\u001b[0m\u001b[1;33m)\u001b[0m\u001b[1;33m\u001b[0m\u001b[1;33m\u001b[0m\u001b[0m\n",
      "\u001b[1;31mValueError\u001b[0m: invalid literal for int() with base 10: '1,2'"
     ]
    }
   ],
   "source": [
    "if __name__ == \"__main__\":\n",
    "    # Initialize the user variable to None and the board variable to the initial state of the game\n",
    "    user = None\n",
    "    board = initial_state()\n",
    "    # Set the ai_turn variable to False\n",
    "    ai_turn = False\n",
    "\n",
    "    # Prompt the user to choose a player\n",
    "    while user not in ['X','O']:\n",
    "        user = input(\"Choose to Play as X or O : \").upper()\n",
    "        \n",
    "    ai_turn =!(user =='X')\n",
    "\n",
    "    # Enter a loop that continues until the game is over\n",
    "    # Check if the game is over\n",
    "    while not terminal(board):\n",
    "        print()\n",
    "        print(board[0])\n",
    "        print(board[1])\n",
    "        print(board[2])\n",
    "        print()\n",
    "        print(\"Possible Actions are: \",actions(board))\n",
    "        print()\n",
    "        if ai_turn:\n",
    "            print(\"AI's Turn....\")\n",
    "            action = alpha_beta_pruining(board)\n",
    "            board = result(board,action)\n",
    "            ai_turn = False\n",
    "        else:\n",
    "            print(\"Player Turn...\")\n",
    "            row = int(input(\"Enter your Row: \"))\n",
    "            col = int(input(\"Enter your Col: \"))\n",
    "            action = (row,col)\n",
    "            board = result(board,action)\n",
    "            ai_turn = True\n",
    "    \n",
    "\n",
    "    # Print the result of the game\n",
    "    # Determine the current player\n",
    "    # Print the current player and the user\n",
    "    # If the game is over, print the result of the game and break out of the loop\n",
    "    # If the game is not over and the current player is not the user\n",
    "    # Set the ai_turn variable to True\n",
    "    # Select a move for the AI player by calling the minimax function on the board\n",
    "    # Apply the selected move to the board by calling the result function on the board and the selected move\n",
    "    # Set the ai_turn variable to False\n",
    "    # Print the updated board\n",
    "    # If the game is not over and the current player is the user\n",
    "    # Set the ai_turn variable to True\n",
    "    # Prompt the user to enter the position to move\n",
    "    # Apply the selected move to the board by calling the result function on the board and the selected move\n",
    "    # Print the updated board\n",
    "    \n",
    "    print()\n",
    "    print(board[0])\n",
    "    print(board[1])\n",
    "    print(board[2])\n",
    "    print()\n",
    "    if winner(board)==X:\n",
    "        print(\"X Wins! \")\n",
    "    elif winner(board)==O:\n",
    "        print(\"O wins! \")\n",
    "    else:\n",
    "        print(\"It's a Draw! \")\n"
   ]
  },
  {
   "cell_type": "code",
   "execution_count": null,
   "metadata": {},
   "outputs": [],
   "source": []
  },
  {
   "cell_type": "code",
   "execution_count": null,
   "metadata": {},
   "outputs": [],
   "source": []
  }
 ],
 "metadata": {
  "kernelspec": {
   "display_name": "Python 3 (ipykernel)",
   "language": "python",
   "name": "python3"
  },
  "language_info": {
   "codemirror_mode": {
    "name": "ipython",
    "version": 3
   },
   "file_extension": ".py",
   "mimetype": "text/x-python",
   "name": "python",
   "nbconvert_exporter": "python",
   "pygments_lexer": "ipython3",
   "version": "3.9.16"
  }
 },
 "nbformat": 4,
 "nbformat_minor": 4
}
