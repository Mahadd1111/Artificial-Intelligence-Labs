{
 "cells": [
  {
   "cell_type": "markdown",
   "metadata": {},
   "source": [
    "<h1 style='font-family: serif; text-align: center'><b>Lab12: Decision Tree</b></h1>"
   ]
  },
  {
   "cell_type": "markdown",
   "metadata": {},
   "source": [
    "<h3 style='font-family: serif'>Initial Processing Steps</h3>"
   ]
  },
  {
   "cell_type": "code",
   "execution_count": 9,
   "metadata": {},
   "outputs": [],
   "source": [
    "# Import numpy, pandas, math\n",
    "import numpy as np\n",
    "import pandas as pd\n",
    "import math"
   ]
  },
  {
   "cell_type": "code",
   "execution_count": 15,
   "metadata": {},
   "outputs": [
    {
     "data": {
      "text/html": [
       "<div>\n",
       "<style scoped>\n",
       "    .dataframe tbody tr th:only-of-type {\n",
       "        vertical-align: middle;\n",
       "    }\n",
       "\n",
       "    .dataframe tbody tr th {\n",
       "        vertical-align: top;\n",
       "    }\n",
       "\n",
       "    .dataframe thead th {\n",
       "        text-align: right;\n",
       "    }\n",
       "</style>\n",
       "<table border=\"1\" class=\"dataframe\">\n",
       "  <thead>\n",
       "    <tr style=\"text-align: right;\">\n",
       "      <th></th>\n",
       "      <th>AGE</th>\n",
       "      <th>HAS_JOB</th>\n",
       "      <th>OWNS_HOUSE</th>\n",
       "      <th>CREDIT_RATING</th>\n",
       "      <th>LOAN_APPROVAL</th>\n",
       "    </tr>\n",
       "  </thead>\n",
       "  <tbody>\n",
       "    <tr>\n",
       "      <th>0</th>\n",
       "      <td>Young</td>\n",
       "      <td>False</td>\n",
       "      <td>False</td>\n",
       "      <td>Fair</td>\n",
       "      <td>No</td>\n",
       "    </tr>\n",
       "    <tr>\n",
       "      <th>1</th>\n",
       "      <td>Young</td>\n",
       "      <td>False</td>\n",
       "      <td>False</td>\n",
       "      <td>Good</td>\n",
       "      <td>No</td>\n",
       "    </tr>\n",
       "    <tr>\n",
       "      <th>2</th>\n",
       "      <td>Young</td>\n",
       "      <td>True</td>\n",
       "      <td>False</td>\n",
       "      <td>Good</td>\n",
       "      <td>Yes</td>\n",
       "    </tr>\n",
       "    <tr>\n",
       "      <th>3</th>\n",
       "      <td>Young</td>\n",
       "      <td>True</td>\n",
       "      <td>True</td>\n",
       "      <td>Fair</td>\n",
       "      <td>Yes</td>\n",
       "    </tr>\n",
       "    <tr>\n",
       "      <th>4</th>\n",
       "      <td>Young</td>\n",
       "      <td>False</td>\n",
       "      <td>False</td>\n",
       "      <td>Fair</td>\n",
       "      <td>No</td>\n",
       "    </tr>\n",
       "    <tr>\n",
       "      <th>5</th>\n",
       "      <td>Middle</td>\n",
       "      <td>False</td>\n",
       "      <td>False</td>\n",
       "      <td>Fair</td>\n",
       "      <td>No</td>\n",
       "    </tr>\n",
       "    <tr>\n",
       "      <th>6</th>\n",
       "      <td>Middle</td>\n",
       "      <td>False</td>\n",
       "      <td>False</td>\n",
       "      <td>Good</td>\n",
       "      <td>No</td>\n",
       "    </tr>\n",
       "    <tr>\n",
       "      <th>7</th>\n",
       "      <td>Middle</td>\n",
       "      <td>True</td>\n",
       "      <td>True</td>\n",
       "      <td>Good</td>\n",
       "      <td>Yes</td>\n",
       "    </tr>\n",
       "    <tr>\n",
       "      <th>8</th>\n",
       "      <td>Middle</td>\n",
       "      <td>False</td>\n",
       "      <td>True</td>\n",
       "      <td>Excellent</td>\n",
       "      <td>Yes</td>\n",
       "    </tr>\n",
       "    <tr>\n",
       "      <th>9</th>\n",
       "      <td>Middle</td>\n",
       "      <td>False</td>\n",
       "      <td>True</td>\n",
       "      <td>Excellent</td>\n",
       "      <td>Yes</td>\n",
       "    </tr>\n",
       "    <tr>\n",
       "      <th>10</th>\n",
       "      <td>Old</td>\n",
       "      <td>False</td>\n",
       "      <td>True</td>\n",
       "      <td>Excellent</td>\n",
       "      <td>Yes</td>\n",
       "    </tr>\n",
       "    <tr>\n",
       "      <th>11</th>\n",
       "      <td>Old</td>\n",
       "      <td>False</td>\n",
       "      <td>True</td>\n",
       "      <td>Good</td>\n",
       "      <td>Yes</td>\n",
       "    </tr>\n",
       "    <tr>\n",
       "      <th>12</th>\n",
       "      <td>Old</td>\n",
       "      <td>True</td>\n",
       "      <td>False</td>\n",
       "      <td>Good</td>\n",
       "      <td>Yes</td>\n",
       "    </tr>\n",
       "    <tr>\n",
       "      <th>13</th>\n",
       "      <td>Old</td>\n",
       "      <td>True</td>\n",
       "      <td>False</td>\n",
       "      <td>Excellent</td>\n",
       "      <td>Yes</td>\n",
       "    </tr>\n",
       "    <tr>\n",
       "      <th>14</th>\n",
       "      <td>Old</td>\n",
       "      <td>False</td>\n",
       "      <td>False</td>\n",
       "      <td>Fair</td>\n",
       "      <td>No</td>\n",
       "    </tr>\n",
       "  </tbody>\n",
       "</table>\n",
       "</div>"
      ],
      "text/plain": [
       "       AGE  HAS_JOB  OWNS_HOUSE CREDIT_RATING LOAN_APPROVAL\n",
       "0    Young    False       False          Fair            No\n",
       "1    Young    False       False          Good            No\n",
       "2    Young     True       False          Good           Yes\n",
       "3    Young     True        True          Fair           Yes\n",
       "4    Young    False       False          Fair            No\n",
       "5   Middle    False       False          Fair            No\n",
       "6   Middle    False       False          Good            No\n",
       "7   Middle     True        True          Good           Yes\n",
       "8   Middle    False        True     Excellent           Yes\n",
       "9   Middle    False        True     Excellent           Yes\n",
       "10     Old    False        True     Excellent           Yes\n",
       "11     Old    False        True          Good           Yes\n",
       "12     Old     True       False          Good           Yes\n",
       "13     Old     True       False     Excellent           Yes\n",
       "14     Old    False       False          Fair            No"
      ]
     },
     "execution_count": 15,
     "metadata": {},
     "output_type": "execute_result"
    }
   ],
   "source": [
    "# Read the dataset\n",
    "dataset = pd.read_csv('dataset.csv')\n",
    "TOTAL_SAMPLES = 0\n",
    "DATASET_ENTROPY = 0\n",
    "dataset"
   ]
  },
  {
   "cell_type": "code",
   "execution_count": 16,
   "metadata": {},
   "outputs": [],
   "source": [
    "# Create a count of all YES and NO against every unique key\n",
    "def count_labels(df):\n",
    "    results = {}\n",
    "    for col in df.columns:\n",
    "        unique_values = df[col].unique()\n",
    "        col_results = {}\n",
    "        for val in unique_values:\n",
    "            pos_count = len(df[(df[col] == val) & (df['LOAN_APPROVAL'] == 'Yes')])\n",
    "            neg_count = len(df[(df[col] == val) & (df['LOAN_APPROVAL'] == 'No')])\n",
    "            col_results[val] = {'Yes': pos_count, 'No': neg_count}\n",
    "        results[col] = col_results\n",
    "    return results\n",
    "\n",
    "# Calculates entropy based on the formula\n",
    "def entropy(v1, v2):\n",
    "    total = v1 + v2\n",
    "    p1 = v1 / total\n",
    "    p2 = v2 / total\n",
    "    if p1 == 0 or p2 == 0:\n",
    "        return 0\n",
    "    return -p1 * math.log(p1, 2) - p2 * math.log(p2, 2)\n",
    "\n",
    "# Calculate information gain = entropy of dataset - entropy of the current attribute\n",
    "def information_gain(attribute):\n",
    "    keys_list = list(attribute.keys())\n",
    "    values_list = list(attribute.values())\n",
    "    gain = 0\n",
    "    for i in range(len(attribute)):\n",
    "        p = values_list[i].get('Yes')\n",
    "        n = values_list[i].get('No')\n",
    "        ent = entropy(p, n)\n",
    "        gain += ent * ((p+n)/TOTAL_SAMPLES)\n",
    "    return DATASET_ENTROPY - gain\n",
    "\n",
    "# Which node has the highest information gain\n",
    "def extract_node(table):\n",
    "    gains = []\n",
    "    keys = list(table.keys())\n",
    "    for key in keys:\n",
    "        gains.append([information_gain(table[key]), key])\n",
    "    max_gain = max(gains)\n",
    "    print(f'Gains of the nodes: {gains}')\n",
    "    return max_gain[1]\n",
    "\n",
    "# Extract which value of the node the dataset should be split\n",
    "def splitting_node_on_value(table,node):\n",
    "    keys = list(table[node].keys())\n",
    "    for key in keys:\n",
    "        if table[node][key].get('Yes') == 0 or table[node][key].get('No') == 0:\n",
    "            table.pop(node)\n",
    "            return key\n",
    "\n",
    "# Split the dataset based on the node and value\n",
    "def split_dataset(df, node, value):\n",
    "    return df[df[node] == value], df[df[node] != value]"
   ]
  },
  {
   "cell_type": "markdown",
   "metadata": {},
   "source": [
    "<h3 style='font-family: serif'>Iteration#01: On the Entire Dataset</h3>"
   ]
  },
  {
   "cell_type": "code",
   "execution_count": 17,
   "metadata": {},
   "outputs": [
    {
     "name": "stdout",
     "output_type": "stream",
     "text": [
      "{'AGE': {'Young': {'Yes': 2, 'No': 3}, 'Middle': {'Yes': 3, 'No': 2}, 'Old': {'Yes': 4, 'No': 1}}, 'HAS_JOB': {False: {'Yes': 4, 'No': 6}, True: {'Yes': 5, 'No': 0}}, 'OWNS_HOUSE': {False: {'Yes': 3, 'No': 6}, True: {'Yes': 6, 'No': 0}}, 'CREDIT_RATING': {'Fair': {'Yes': 1, 'No': 4}, 'Good': {'Yes': 4, 'No': 2}, 'Excellent': {'Yes': 4, 'No': 0}}, 'LOAN_APPROVAL': {'No': {'Yes': 0, 'No': 6}, 'Yes': {'Yes': 9, 'No': 0}}}\n"
     ]
    }
   ],
   "source": [
    "# Calling the count_values_by_column function to get the count of all YES and NO against every unique key\n",
    "count_data = count_labels(dataset)\n",
    "\n",
    "# Displaying the main table of counts\n",
    "print(count_data)"
   ]
  },
  {
   "cell_type": "code",
   "execution_count": 18,
   "metadata": {},
   "outputs": [
    {
     "name": "stdout",
     "output_type": "stream",
     "text": [
      "{'AGE': {'Young': {'Yes': 2, 'No': 3}, 'Middle': {'Yes': 3, 'No': 2}, 'Old': {'Yes': 4, 'No': 1}}, 'HAS_JOB': {False: {'Yes': 4, 'No': 6}, True: {'Yes': 5, 'No': 0}}, 'OWNS_HOUSE': {False: {'Yes': 3, 'No': 6}, True: {'Yes': 6, 'No': 0}}, 'CREDIT_RATING': {'Fair': {'Yes': 1, 'No': 4}, 'Good': {'Yes': 4, 'No': 2}, 'Excellent': {'Yes': 4, 'No': 0}}}\n",
      "Positive: 9\n",
      "Negative: 6\n",
      "total: 15\n",
      "Dataset Entropy: 0.9709505944546686\n"
     ]
    }
   ],
   "source": [
    "# Extracting all base variables - example: positives, negatives, total samples, dataset entropy etc\n",
    "count_loan = count_data.pop('LOAN_APPROVAL')\n",
    "positive = count_loan.get('Yes').get('Yes')\n",
    "negative = count_loan.get('No').get('No')\n",
    "TOTAL_SAMPLES = positive + negative\n",
    "DATASET_ENTROPY = entropy(positive,negative)\n",
    "# Displaying the base variables\n",
    "\n",
    "print(f\"Positive: {positive}\")\n",
    "print(f\"Negative: {negative}\")\n",
    "print(f\"total: {TOTAL_SAMPLES}\")\n",
    "print(f\"Dataset Entropy: {DATASET_ENTROPY}\")"
   ]
  },
  {
   "cell_type": "code",
   "execution_count": 77,
   "metadata": {},
   "outputs": [
    {
     "name": "stdout",
     "output_type": "stream",
     "text": [
      "Gains of the nodes: [[0.08300749985576883, 'AGE'], [0.32365019815155627, 'HAS_JOB'], [0.4199730940219749, 'OWNS_HOUSE'], [0.36298956253708536, 'CREDIT_RATING']]\n",
      "\n",
      "Root Node: OWNS_HOUSE\n",
      "Decided Child: True\n"
     ]
    }
   ],
   "source": [
    "# What is the root node of the tree? Extract the node with the highest information gain - using extract_node()\n",
    "root_node = extract_node(count_data)\n",
    "\n",
    "\n",
    "# What is the decided child node of the root node? Extract the value of the node with the highest information gain - using splitting_node_on_value()\n",
    "decided_child = splitting_node_on_value(count_data,root_node) \n",
    "\n",
    "# Display the root node and the decided child node of the root node\n",
    "print(f\"\\nRoot Node: {root_node}\")\n",
    "print(f\"Decided Child: {decided_child}\")"
   ]
  },
  {
   "cell_type": "code",
   "execution_count": 78,
   "metadata": {},
   "outputs": [
    {
     "name": "stdout",
     "output_type": "stream",
     "text": [
      "(       AGE  HAS_JOB  OWNS_HOUSE CREDIT_RATING LOAN_APPROVAL\n",
      "3    Young     True        True          Fair           Yes\n",
      "7   Middle     True        True          Good           Yes\n",
      "8   Middle    False        True     Excellent           Yes\n",
      "9   Middle    False        True     Excellent           Yes\n",
      "10     Old    False        True     Excellent           Yes\n",
      "11     Old    False        True          Good           Yes,        AGE  HAS_JOB  OWNS_HOUSE CREDIT_RATING LOAN_APPROVAL\n",
      "0    Young    False       False          Fair            No\n",
      "1    Young    False       False          Good            No\n",
      "2    Young     True       False          Good           Yes\n",
      "4    Young    False       False          Fair            No\n",
      "5   Middle    False       False          Fair            No\n",
      "6   Middle    False       False          Good            No\n",
      "12     Old     True       False          Good           Yes\n",
      "13     Old     True       False     Excellent           Yes\n",
      "14     Old    False       False          Fair            No)\n"
     ]
    }
   ],
   "source": [
    "# Split the dataset based on the root node and the decided child node of the root node\n",
    "split_data = split_dataset(dataset,root_node,decided_child)\n",
    "print(split_data)"
   ]
  },
  {
   "cell_type": "code",
   "execution_count": 79,
   "metadata": {},
   "outputs": [],
   "source": [
    "# Display the left sub-dataset\n",
    "split_data[0]\n",
    "leaf_1 = split_data[0]"
   ]
  },
  {
   "cell_type": "code",
   "execution_count": 80,
   "metadata": {},
   "outputs": [
    {
     "data": {
      "text/html": [
       "<div>\n",
       "<style scoped>\n",
       "    .dataframe tbody tr th:only-of-type {\n",
       "        vertical-align: middle;\n",
       "    }\n",
       "\n",
       "    .dataframe tbody tr th {\n",
       "        vertical-align: top;\n",
       "    }\n",
       "\n",
       "    .dataframe thead th {\n",
       "        text-align: right;\n",
       "    }\n",
       "</style>\n",
       "<table border=\"1\" class=\"dataframe\">\n",
       "  <thead>\n",
       "    <tr style=\"text-align: right;\">\n",
       "      <th></th>\n",
       "      <th>AGE</th>\n",
       "      <th>HAS_JOB</th>\n",
       "      <th>OWNS_HOUSE</th>\n",
       "      <th>CREDIT_RATING</th>\n",
       "      <th>LOAN_APPROVAL</th>\n",
       "    </tr>\n",
       "  </thead>\n",
       "  <tbody>\n",
       "    <tr>\n",
       "      <th>0</th>\n",
       "      <td>Young</td>\n",
       "      <td>False</td>\n",
       "      <td>False</td>\n",
       "      <td>Fair</td>\n",
       "      <td>No</td>\n",
       "    </tr>\n",
       "    <tr>\n",
       "      <th>1</th>\n",
       "      <td>Young</td>\n",
       "      <td>False</td>\n",
       "      <td>False</td>\n",
       "      <td>Good</td>\n",
       "      <td>No</td>\n",
       "    </tr>\n",
       "    <tr>\n",
       "      <th>2</th>\n",
       "      <td>Young</td>\n",
       "      <td>True</td>\n",
       "      <td>False</td>\n",
       "      <td>Good</td>\n",
       "      <td>Yes</td>\n",
       "    </tr>\n",
       "    <tr>\n",
       "      <th>4</th>\n",
       "      <td>Young</td>\n",
       "      <td>False</td>\n",
       "      <td>False</td>\n",
       "      <td>Fair</td>\n",
       "      <td>No</td>\n",
       "    </tr>\n",
       "    <tr>\n",
       "      <th>5</th>\n",
       "      <td>Middle</td>\n",
       "      <td>False</td>\n",
       "      <td>False</td>\n",
       "      <td>Fair</td>\n",
       "      <td>No</td>\n",
       "    </tr>\n",
       "    <tr>\n",
       "      <th>6</th>\n",
       "      <td>Middle</td>\n",
       "      <td>False</td>\n",
       "      <td>False</td>\n",
       "      <td>Good</td>\n",
       "      <td>No</td>\n",
       "    </tr>\n",
       "    <tr>\n",
       "      <th>12</th>\n",
       "      <td>Old</td>\n",
       "      <td>True</td>\n",
       "      <td>False</td>\n",
       "      <td>Good</td>\n",
       "      <td>Yes</td>\n",
       "    </tr>\n",
       "    <tr>\n",
       "      <th>13</th>\n",
       "      <td>Old</td>\n",
       "      <td>True</td>\n",
       "      <td>False</td>\n",
       "      <td>Excellent</td>\n",
       "      <td>Yes</td>\n",
       "    </tr>\n",
       "    <tr>\n",
       "      <th>14</th>\n",
       "      <td>Old</td>\n",
       "      <td>False</td>\n",
       "      <td>False</td>\n",
       "      <td>Fair</td>\n",
       "      <td>No</td>\n",
       "    </tr>\n",
       "  </tbody>\n",
       "</table>\n",
       "</div>"
      ],
      "text/plain": [
       "       AGE  HAS_JOB  OWNS_HOUSE CREDIT_RATING LOAN_APPROVAL\n",
       "0    Young    False       False          Fair            No\n",
       "1    Young    False       False          Good            No\n",
       "2    Young     True       False          Good           Yes\n",
       "4    Young    False       False          Fair            No\n",
       "5   Middle    False       False          Fair            No\n",
       "6   Middle    False       False          Good            No\n",
       "12     Old     True       False          Good           Yes\n",
       "13     Old     True       False     Excellent           Yes\n",
       "14     Old    False       False          Fair            No"
      ]
     },
     "execution_count": 80,
     "metadata": {},
     "output_type": "execute_result"
    }
   ],
   "source": [
    "# Display the right sub-dataset\n",
    "split_data[1]"
   ]
  },
  {
   "cell_type": "markdown",
   "metadata": {},
   "source": [
    "<h3 style='font-family: serif'>Iteration#02: On the Right Sub-Split-Dataset</h3>\n",
    "<p> Repeat the same process unless the dataset is empty</p>"
   ]
  },
  {
   "cell_type": "code",
   "execution_count": 69,
   "metadata": {},
   "outputs": [
    {
     "name": "stdout",
     "output_type": "stream",
     "text": [
      "{'AGE': {'Young': {'Yes': 1, 'No': 3}, 'Middle': {'Yes': 0, 'No': 2}, 'Old': {'Yes': 2, 'No': 1}}, 'HAS_JOB': {False: {'Yes': 0, 'No': 6}, True: {'Yes': 3, 'No': 0}}, 'OWNS_HOUSE': {False: {'Yes': 3, 'No': 6}}, 'CREDIT_RATING': {'Fair': {'Yes': 0, 'No': 4}, 'Good': {'Yes': 2, 'No': 2}, 'Excellent': {'Yes': 1, 'No': 0}}, 'LOAN_APPROVAL': {'No': {'Yes': 0, 'No': 6}, 'Yes': {'Yes': 3, 'No': 0}}}\n",
      "Positive: 3\n",
      "Negative: 6\n",
      "total: 9\n",
      "Dataset Entropy: 0.9182958340544896\n",
      "Gains of the nodes: [[0.2516291673878229, 'AGE'], [0.9182958340544896, 'HAS_JOB'], [0.0, 'OWNS_HOUSE'], [0.47385138961004514, 'CREDIT_RATING']]\n",
      "[False, True]\n",
      "\n",
      "Root Node: HAS_JOB\n",
      "Decided Child: False\n",
      "(       AGE  HAS_JOB  OWNS_HOUSE CREDIT_RATING LOAN_APPROVAL\n",
      "0    Young    False       False          Fair            No\n",
      "1    Young    False       False          Good            No\n",
      "4    Young    False       False          Fair            No\n",
      "5   Middle    False       False          Fair            No\n",
      "6   Middle    False       False          Good            No\n",
      "14     Old    False       False          Fair            No,       AGE  HAS_JOB  OWNS_HOUSE CREDIT_RATING LOAN_APPROVAL\n",
      "2   Young     True       False          Good           Yes\n",
      "12    Old     True       False          Good           Yes\n",
      "13    Old     True       False     Excellent           Yes)\n"
     ]
    }
   ],
   "source": [
    "dataset = split_data[1]\n",
    "# Calling the count_values_by_column function to get the count of all YES and NO against every unique key\n",
    "count_data = count_labels(dataset)\n",
    "\n",
    "# Displaying the main table of counts\n",
    "print(count_data)\n",
    "\n",
    "# Extracting all base variables - example: positives, negatives, total samples, dataset entropy etc\n",
    "count_loan = count_data.pop('LOAN_APPROVAL')\n",
    "positive = count_loan.get('Yes').get('Yes')\n",
    "negative = count_loan.get('No').get('No')\n",
    "TOTAL_SAMPLES = positive + negative\n",
    "DATASET_ENTROPY = entropy(positive,negative)\n",
    "# Displaying the base variables\n",
    "\n",
    "print(f\"Positive: {positive}\")\n",
    "print(f\"Negative: {negative}\")\n",
    "print(f\"total: {TOTAL_SAMPLES}\")\n",
    "print(f\"Dataset Entropy: {DATASET_ENTROPY}\")\n",
    "\n",
    "# What is the root node of the tree? Extract the node with the highest information gain - using extract_node()\n",
    "root_node = extract_node(count_data)\n",
    "\n",
    "\n",
    "# What is the decided child node of the root node? Extract the value of the node with the highest information gain - using splitting_node_on_value()\n",
    "decided_child = splitting_node_on_value(count_data,root_node) \n",
    "\n",
    "# Display the root node and the decided child node of the root node\n",
    "print(f\"\\nRoot Node: {root_node}\")\n",
    "print(f\"Decided Child: {decided_child}\")\n",
    "\n",
    "# Split the dataset based on the root node and the decided child node of the root node\n",
    "split_data = split_dataset(dataset,root_node,decided_child)\n",
    "print(split_data)"
   ]
  },
  {
   "cell_type": "code",
   "execution_count": 81,
   "metadata": {},
   "outputs": [],
   "source": [
    "# In tree dictionary, store the root node and the decided child node of the root node\n",
    "# tree = {'node': value, 'node': value}\n",
    "\n",
    "# OWNS_HOUSE: True --> ?(Y/N)\n",
    "leaf_node_1 = leaf_1\n",
    "\n",
    "# HAS_JOB: False --> ?(Y/N)\n",
    "leaf_node_2 = split_data[0]"
   ]
  },
  {
   "cell_type": "code",
   "execution_count": 82,
   "metadata": {},
   "outputs": [
    {
     "name": "stdout",
     "output_type": "stream",
     "text": [
      "       AGE  HAS_JOB  OWNS_HOUSE CREDIT_RATING LOAN_APPROVAL\n",
      "3    Young     True        True          Fair           Yes\n",
      "7   Middle     True        True          Good           Yes\n",
      "8   Middle    False        True     Excellent           Yes\n",
      "9   Middle    False        True     Excellent           Yes\n",
      "10     Old    False        True     Excellent           Yes\n",
      "11     Old    False        True          Good           Yes\n"
     ]
    }
   ],
   "source": [
    "print(leaf_node_1)"
   ]
  },
  {
   "cell_type": "code",
   "execution_count": 83,
   "metadata": {},
   "outputs": [
    {
     "name": "stdout",
     "output_type": "stream",
     "text": [
      "       AGE  HAS_JOB  OWNS_HOUSE CREDIT_RATING LOAN_APPROVAL\n",
      "3    Young     True        True          Fair           Yes\n",
      "7   Middle     True        True          Good           Yes\n",
      "8   Middle    False        True     Excellent           Yes\n",
      "9   Middle    False        True     Excellent           Yes\n",
      "10     Old    False        True     Excellent           Yes\n",
      "11     Old    False        True          Good           Yes\n"
     ]
    }
   ],
   "source": [
    "print(leaf_node_2)"
   ]
  },
  {
   "cell_type": "code",
   "execution_count": null,
   "metadata": {},
   "outputs": [],
   "source": []
  }
 ],
 "metadata": {
  "kernelspec": {
   "display_name": "Python 3 (ipykernel)",
   "language": "python",
   "name": "python3"
  },
  "language_info": {
   "codemirror_mode": {
    "name": "ipython",
    "version": 3
   },
   "file_extension": ".py",
   "mimetype": "text/x-python",
   "name": "python",
   "nbconvert_exporter": "python",
   "pygments_lexer": "ipython3",
   "version": "3.9.16"
  }
 },
 "nbformat": 4,
 "nbformat_minor": 2
}
