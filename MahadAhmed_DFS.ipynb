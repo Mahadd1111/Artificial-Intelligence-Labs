{
 "cells": [
  {
   "cell_type": "code",
   "execution_count": 1,
   "metadata": {
    "colab": {
     "base_uri": "https://localhost:8080/"
    },
    "id": "aMraepzzWHJZ",
    "outputId": "e224f82c-4f6f-4b86-8959-6cdfc4a76f90"
   },
   "outputs": [],
   "source": [
    "source_Puzz = [0,1,3,4,2,5,7,8,6]\n",
    "dest_Puzz = [1,2,3,4,5,6,7,8,0]"
   ]
  },
  {
   "cell_type": "code",
   "execution_count": 2,
   "metadata": {
    "id": "7HmHhjorX_th"
   },
   "outputs": [],
   "source": [
    "def DisplayPuzz(sourcePuzz):\n",
    "  j = 1\n",
    "  for i in range(len(sourcePuzz)):\n",
    "    if(j%3):\n",
    "      print(sourcePuzz[i],end=\" \")\n",
    "    else:\n",
    "      print(sourcePuzz[i])\n",
    "    j+=1"
   ]
  },
  {
   "cell_type": "code",
   "execution_count": 3,
   "metadata": {},
   "outputs": [],
   "source": [
    "def move_left(state):\n",
    "    new_state = state[:]\n",
    "    index = new_state.index(0)\n",
    "    if index not in [0, 3, 6]:\n",
    "        temp = new_state[index - 1]\n",
    "        new_state[index - 1] = new_state[index]\n",
    "        new_state[index] = temp\n",
    "        return new_state\n",
    "    else:\n",
    "        return None\n",
    "\n",
    "def move_right(state):\n",
    "    new_state = state[:]\n",
    "    index = new_state.index(0)\n",
    "    if index not in [2, 5, 8]:\n",
    "        temp = new_state[index + 1]\n",
    "        new_state[index + 1] = new_state[index]\n",
    "        new_state[index] = temp\n",
    "        return new_state\n",
    "    else:\n",
    "        return None\n",
    "\n",
    "\n",
    "def move_up(state):\n",
    "    new_state = state[:]\n",
    "    index = new_state.index(0)\n",
    "    #print(\"------ index-------\", index)\n",
    "    if index not in [0, 1, 2]:\n",
    "        temp = new_state[index - 3]\n",
    "        new_state[index - 3] = new_state[index]\n",
    "        new_state[index] = temp\n",
    "        return new_state\n",
    "    else:\n",
    "        return None\n",
    "\n",
    "\n",
    "def move_down(state):\n",
    "    new_state = state[:]\n",
    "    index = new_state.index(0)\n",
    "    if index not in [6, 7, 8]:\n",
    "        temp = new_state[index + 3]\n",
    "        new_state[index + 3] = new_state[index]\n",
    "        new_state[index] = temp\n",
    "        return new_state\n",
    "    else:\n",
    "        return None"
   ]
  },
  {
   "cell_type": "code",
   "execution_count": 4,
   "metadata": {},
   "outputs": [],
   "source": [
    "\n",
    "def DFS(sourcePuzz):\n",
    "  no_of_iter = 0\n",
    "  visited = [sourcePuzz]\n",
    "  queue = [sourcePuzz]\n",
    "  while(queue):\n",
    "    s = queue.pop()\n",
    "    no_of_iter += 1\n",
    "    #print(s)  \n",
    "    if(s == dest_Puzz):\n",
    "      print(\"Reached Final State\")\n",
    "      DisplayPuzz(s)\n",
    "      return no_of_iter\n",
    "    newArr = []\n",
    "    newArr.append(move_right(s))\n",
    "    newArr.append(move_up(s))\n",
    "    newArr.append(move_down(s))\n",
    "    newArr.append(move_left(s))\n",
    "    for i in newArr:\n",
    "      if i not in visited and i != None:\n",
    "        visited.append(i)\n",
    "        queue.append(i)"
   ]
  },
  {
   "cell_type": "code",
   "execution_count": 5,
   "metadata": {},
   "outputs": [],
   "source": [
    "def IDFS(sourcePuzz,depth):\n",
    "  nextDepth = 0\n",
    "  no_of_iter = 0\n",
    "  visited = [sourcePuzz]\n",
    "  queue = [sourcePuzz]\n",
    "  while(queue):\n",
    "    s = queue.pop()\n",
    "    no_of_iter += 1\n",
    "    #print(s)  \n",
    "    if(s == dest_Puzz):\n",
    "      print(\"Reached Final State\")\n",
    "      DisplayPuzz(s)\n",
    "      return no_of_iter\n",
    "    newArr = []\n",
    "    newArr.append(move_right(s))\n",
    "    newArr.append(move_up(s))\n",
    "    newArr.append(move_down(s))\n",
    "    newArr.append(move_left(s))\n",
    "    if nextDepth <= depth:\n",
    "      for i in newArr:\n",
    "        if i not in visited and i != None:\n",
    "          visited.append(i)\n",
    "          queue.append(i)\n",
    "        nextDepth+=1\n",
    "    else:\n",
    "      nextDepth-=1"
   ]
  },
  {
   "cell_type": "code",
   "execution_count": 6,
   "metadata": {},
   "outputs": [
    {
     "name": "stdout",
     "output_type": "stream",
     "text": [
      "Initial State\n",
      "0 1 3\n",
      "4 2 5\n",
      "7 8 6\n",
      "No of iternations in IDFS\n",
      "Reached Final State\n",
      "1 2 3\n",
      "4 5 6\n",
      "7 8 0\n"
     ]
    },
    {
     "data": {
      "text/plain": [
       "113"
      ]
     },
     "execution_count": 6,
     "metadata": {},
     "output_type": "execute_result"
    }
   ],
   "source": [
    "print(\"Initial State\")\n",
    "DisplayPuzz(source_Puzz)\n",
    "# print(\"No of iternations in DFS\")\n",
    "# DFS(source_Puzz)\n",
    "print(\"No of iternations in IDFS\")\n",
    "IDFS(source_Puzz,400)"
   ]
  },
  {
   "cell_type": "code",
   "execution_count": null,
   "metadata": {},
   "outputs": [],
   "source": []
  }
 ],
 "metadata": {
  "colab": {
   "collapsed_sections": [],
   "name": "i190599_A_lab4.ipynb",
   "provenance": []
  },
  "kernelspec": {
   "display_name": "Python 3 (ipykernel)",
   "language": "python",
   "name": "python3"
  },
  "language_info": {
   "codemirror_mode": {
    "name": "ipython",
    "version": 3
   },
   "file_extension": ".py",
   "mimetype": "text/x-python",
   "name": "python",
   "nbconvert_exporter": "python",
   "pygments_lexer": "ipython3",
   "version": "3.9.16"
  }
 },
 "nbformat": 4,
 "nbformat_minor": 1
}
