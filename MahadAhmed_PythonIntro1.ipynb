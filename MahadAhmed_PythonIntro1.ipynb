{
 "cells": [
  {
   "cell_type": "code",
   "execution_count": 1,
   "id": "18b371b6",
   "metadata": {},
   "outputs": [
    {
     "name": "stdout",
     "output_type": "stream",
     "text": [
      "Hello WOrld!\n",
      "Hello World\n",
      "'Hello World'\n",
      "\"Hello World\"\n"
     ]
    }
   ],
   "source": [
    "print(\"Hello WOrld!\")\n",
    "print('Hello World')\n",
    "print(\"'Hello World'\")\n",
    "print('\"Hello World\"')"
   ]
  },
  {
   "cell_type": "code",
   "execution_count": 2,
   "id": "3f0f4485",
   "metadata": {},
   "outputs": [
    {
     "name": "stdout",
     "output_type": "stream",
     "text": [
      "Something is better then nothing!\n"
     ]
    }
   ],
   "source": [
    "print(\"Something is better\",end=' ')\n",
    "print(\"then nothing!\")"
   ]
  },
  {
   "cell_type": "code",
   "execution_count": 3,
   "id": "f2eea306",
   "metadata": {},
   "outputs": [
    {
     "data": {
      "text/plain": [
       "120"
      ]
     },
     "execution_count": 3,
     "metadata": {},
     "output_type": "execute_result"
    }
   ],
   "source": [
    "10*12"
   ]
  },
  {
   "cell_type": "code",
   "execution_count": 4,
   "id": "3001ed79",
   "metadata": {},
   "outputs": [
    {
     "data": {
      "text/plain": [
       "23.529"
      ]
     },
     "execution_count": 4,
     "metadata": {},
     "output_type": "execute_result"
    }
   ],
   "source": [
    "10.23*2.3"
   ]
  },
  {
   "cell_type": "code",
   "execution_count": 5,
   "id": "add16be4",
   "metadata": {},
   "outputs": [
    {
     "data": {
      "text/plain": [
       "int"
      ]
     },
     "execution_count": 5,
     "metadata": {},
     "output_type": "execute_result"
    }
   ],
   "source": [
    "x=5\n",
    "type(x)"
   ]
  },
  {
   "cell_type": "code",
   "execution_count": 6,
   "id": "5a4abe49",
   "metadata": {},
   "outputs": [
    {
     "name": "stdout",
     "output_type": "stream",
     "text": [
      "Hello5\n",
      "Hello 5\n"
     ]
    }
   ],
   "source": [
    "apples=5\n",
    "print(\"Hello\" + str(apples))\n",
    "print(\"Hello\",apples)"
   ]
  },
  {
   "cell_type": "code",
   "execution_count": 7,
   "id": "5db9d0b6",
   "metadata": {},
   "outputs": [
    {
     "name": "stdout",
     "output_type": "stream",
     "text": [
      "hello world\n",
      "what is up\n"
     ]
    }
   ],
   "source": [
    "print(\"\"\"hello world\n",
    "what is up\"\"\")"
   ]
  },
  {
   "cell_type": "code",
   "execution_count": 8,
   "id": "08841d6f",
   "metadata": {},
   "outputs": [
    {
     "name": "stdout",
     "output_type": "stream",
     "text": [
      "Hello Mahad\n"
     ]
    }
   ],
   "source": [
    "name = \"Mahad\"\n",
    "print(f\"Hello {name}\")"
   ]
  },
  {
   "cell_type": "code",
   "execution_count": 10,
   "id": "2a50920e",
   "metadata": {},
   "outputs": [
    {
     "name": "stdout",
     "output_type": "stream",
     "text": [
      "Enter a number: 3\n",
      "Value of square is:  27\n"
     ]
    }
   ],
   "source": [
    "x = int(input(\"Enter a number: \"))\n",
    "print(\"Value of square is: \",x**x)"
   ]
  },
  {
   "cell_type": "code",
   "execution_count": 11,
   "id": "a6f54adc",
   "metadata": {},
   "outputs": [
    {
     "name": "stdout",
     "output_type": "stream",
     "text": [
      "10 20.3 30ff\n"
     ]
    }
   ],
   "source": [
    "a,b,c = 10,20.3,\"30ff\"\n",
    "print(a,b,c)"
   ]
  },
  {
   "cell_type": "code",
   "execution_count": 12,
   "id": "326e6524",
   "metadata": {},
   "outputs": [
    {
     "name": "stdout",
     "output_type": "stream",
     "text": [
      "Correct\n"
     ]
    }
   ],
   "source": [
    "a=10\n",
    "if a == 10:\n",
    "    print(\"Correct\")\n",
    "else:\n",
    "    print(\"Incorrect\")"
   ]
  },
  {
   "cell_type": "code",
   "execution_count": 13,
   "id": "7d0d998c",
   "metadata": {},
   "outputs": [
    {
     "name": "stdout",
     "output_type": "stream",
     "text": [
      "Incorrect\n"
     ]
    }
   ],
   "source": [
    "a = 10\n",
    "b = 3.143\n",
    "if a == 10 and b==3.14:\n",
    "    print(\"Correct\")\n",
    "else:\n",
    "    print(\"Incorrect\")"
   ]
  },
  {
   "cell_type": "code",
   "execution_count": 14,
   "id": "43530709",
   "metadata": {},
   "outputs": [
    {
     "data": {
      "text/plain": [
       "list"
      ]
     },
     "execution_count": 14,
     "metadata": {},
     "output_type": "execute_result"
    }
   ],
   "source": [
    "numbers=[3,4,5,6,7]\n",
    "type(numbers)"
   ]
  },
  {
   "cell_type": "code",
   "execution_count": 15,
   "id": "73d29565",
   "metadata": {},
   "outputs": [
    {
     "data": {
      "text/plain": [
       "tuple"
      ]
     },
     "execution_count": 15,
     "metadata": {},
     "output_type": "execute_result"
    }
   ],
   "source": [
    "numbers = ((1,3,\"Mahad\"),(2,10,\"nice\"))\n",
    "type(numbers)"
   ]
  },
  {
   "cell_type": "code",
   "execution_count": 16,
   "id": "c2e056ec",
   "metadata": {},
   "outputs": [
    {
     "data": {
      "text/plain": [
       "dict"
      ]
     },
     "execution_count": 16,
     "metadata": {},
     "output_type": "execute_result"
    }
   ],
   "source": [
    "numbers = {1:'Hello',2:'Mahad'}\n",
    "type(numbers)"
   ]
  },
  {
   "cell_type": "code",
   "execution_count": 17,
   "id": "eb40dd6b",
   "metadata": {},
   "outputs": [
    {
     "name": "stdout",
     "output_type": "stream",
     "text": [
      "1\t2\t3\t4\t5\t6\t"
     ]
    }
   ],
   "source": [
    "a = [1,2,3,4,5,6]\n",
    "for i in a:\n",
    "    print(i,end='\\t')"
   ]
  },
  {
   "cell_type": "code",
   "execution_count": 18,
   "id": "456c3227",
   "metadata": {},
   "outputs": [
    {
     "name": "stdout",
     "output_type": "stream",
     "text": [
      "1\t2\t3\t4\t5\t6\t"
     ]
    }
   ],
   "source": [
    "for i in range(1,7):\n",
    "    print(i,end = '\\t')"
   ]
  },
  {
   "cell_type": "code",
   "execution_count": 19,
   "id": "236bc8cb",
   "metadata": {},
   "outputs": [
    {
     "name": "stdout",
     "output_type": "stream",
     "text": [
      "pop\trock\tjazz\t"
     ]
    }
   ],
   "source": [
    "genre = ['pop','rock','jazz']\n",
    "for i in range(3):\n",
    "    print(genre[i],end=\"\\t\")"
   ]
  },
  {
   "cell_type": "code",
   "execution_count": 20,
   "id": "2044e0aa",
   "metadata": {},
   "outputs": [
    {
     "name": "stdout",
     "output_type": "stream",
     "text": [
      "pop\trock\tjazz\t"
     ]
    }
   ],
   "source": [
    "genre = ['pop','rock','jazz']\n",
    "for i in range(len(genre)):\n",
    "    print(genre[i],end=\"\\t\")"
   ]
  },
  {
   "cell_type": "code",
   "execution_count": 21,
   "id": "45acbf67",
   "metadata": {},
   "outputs": [
    {
     "name": "stdout",
     "output_type": "stream",
     "text": [
      "pop\trock\tjazz\t"
     ]
    }
   ],
   "source": [
    "genre = ['pop','rock','jazz']\n",
    "for music in genre:\n",
    "    print(music,end=\"\\t\")"
   ]
  },
  {
   "cell_type": "code",
   "execution_count": 22,
   "id": "d0fbf518",
   "metadata": {},
   "outputs": [
    {
     "name": "stdout",
     "output_type": "stream",
     "text": [
      "Sum is 55\n"
     ]
    }
   ],
   "source": [
    "n,i,sum = 10,1,0\n",
    "while(i<=n):\n",
    "    sum = sum + i\n",
    "    i=i+1\n",
    "print(f\"Sum is {sum}\")"
   ]
  },
  {
   "cell_type": "code",
   "execution_count": 23,
   "id": "52ed0ed1",
   "metadata": {},
   "outputs": [
    {
     "name": "stdout",
     "output_type": "stream",
     "text": [
      "[['Bed', 5.2], ['Hall', 7.5], ['Garage', 10.2]]\n"
     ]
    }
   ],
   "source": [
    "garage_area = [\"Garage\",10.2]\n",
    "areas = [[\"Bed\",5.2],[\"Hall\",7.5],garage_area]\n",
    "print(areas)"
   ]
  },
  {
   "cell_type": "code",
   "execution_count": 24,
   "id": "235b9529",
   "metadata": {},
   "outputs": [
    {
     "name": "stdout",
     "output_type": "stream",
     "text": [
      "Bed 5.2\n",
      "Hall 7.5\n",
      "Garage 10.2\n"
     ]
    }
   ],
   "source": [
    "for area in areas:\n",
    "    print(area[0],area[1])"
   ]
  },
  {
   "cell_type": "code",
   "execution_count": 25,
   "id": "116bfa8f",
   "metadata": {},
   "outputs": [
    {
     "name": "stdout",
     "output_type": "stream",
     "text": [
      "['Garage', 10.2]\n"
     ]
    }
   ],
   "source": [
    "print(areas[-1])"
   ]
  },
  {
   "cell_type": "code",
   "execution_count": 26,
   "id": "79acc0a2",
   "metadata": {},
   "outputs": [
    {
     "name": "stdout",
     "output_type": "stream",
     "text": [
      "[3, 4, 5, 6]\n",
      "[4, 5, 6, 7, 8]\n",
      "[1, 2, 3, 4, 5]\n",
      "[1, 2, 3, 4, 5, 6, 7, 8]\n"
     ]
    }
   ],
   "source": [
    "# slicing\n",
    "numbers = [1,2,3,4,5,6,7,8]\n",
    "print(numbers[2:6])\n",
    "print(numbers[3:])\n",
    "print(numbers[:5])\n",
    "print(numbers[:])"
   ]
  },
  {
   "cell_type": "code",
   "execution_count": 27,
   "id": "d1939565",
   "metadata": {},
   "outputs": [
    {
     "name": "stdout",
     "output_type": "stream",
     "text": [
      "[0, 2, 4, 6, 8]\n"
     ]
    }
   ],
   "source": [
    "# mutable lists (tuples are not mutable)\n",
    "even = [3,5,7,11]\n",
    "even[0]=0\n",
    "even[1:]=[2,4,6,8]\n",
    "print(even)"
   ]
  },
  {
   "cell_type": "code",
   "execution_count": 28,
   "id": "f830284d",
   "metadata": {},
   "outputs": [
    {
     "name": "stdout",
     "output_type": "stream",
     "text": [
      "[1, 3, 5, 7, 9, 11]\n",
      "['re', 're', 're']\n"
     ]
    }
   ],
   "source": [
    "#concatenation of lists\n",
    "print([1,3,5]+[7,9,11])\n",
    "print([\"re\"]*3)"
   ]
  },
  {
   "cell_type": "code",
   "execution_count": 29,
   "id": "39c8c809",
   "metadata": {},
   "outputs": [
    {
     "name": "stdout",
     "output_type": "stream",
     "text": [
      "[0, 2, 4, 6, 8, 10, 12, [14, 16]]\n",
      "[0, 2, 4, 6, 8, 10, 12, [14, 16], 14, 16, 18]\n",
      "[3, 5, 7, 11, 15]\n"
     ]
    }
   ],
   "source": [
    "#list methods\n",
    "odd = [3,5,7,11]\n",
    "even = [0,2,4,6,8,10]\n",
    "\n",
    "# Append 1 item\n",
    "even.append(12)\n",
    "even.append([14,16])\n",
    "print(even)\n",
    "\n",
    "#extend 1 or more at position\n",
    "even.extend([14,16,18])\n",
    "print(even)\n",
    "\n",
    "#insert 1 or more at position (index,value)\n",
    "odd.insert(6,15)\n",
    "print(odd)"
   ]
  },
  {
   "cell_type": "code",
   "execution_count": 1,
   "id": "452103e6",
   "metadata": {},
   "outputs": [
    {
     "name": "stdout",
     "output_type": "stream",
     "text": [
      "<class 'str'>\n",
      "<class 'tuple'>\n",
      "<class 'tuple'>\n"
     ]
    }
   ],
   "source": [
    "my_tuple = (\"Hello\")\n",
    "print(type(my_tuple))\n",
    "\n",
    "my_tuple = (\"Hell0\",)\n",
    "print(type(my_tuple))\n",
    "\n",
    "my_tuple = \"Hello\",\n",
    "print(type(my_tuple))"
   ]
  },
  {
   "cell_type": "code",
   "execution_count": 2,
   "id": "011a7f19",
   "metadata": {},
   "outputs": [
    {
     "name": "stdout",
     "output_type": "stream",
     "text": [
      "('Mahad', 'Ahmed')\n",
      "Mahad\n",
      "M\n"
     ]
    }
   ],
   "source": [
    "a = ((\"Mahad\",\"Ahmed\"))\n",
    "print(a)\n",
    "print(a[0])\n",
    "print(a[0][0])"
   ]
  },
  {
   "cell_type": "code",
   "execution_count": 10,
   "id": "5c778da0",
   "metadata": {},
   "outputs": [
    {
     "name": "stdout",
     "output_type": "stream",
     "text": [
      "[('Mahad', 'Ahmed'), ('Leo', 'Messi')]\n",
      "('Mahad', 'Ahmed')\n",
      "Mahad\n"
     ]
    }
   ],
   "source": [
    "a = [(\"Mahad\",\"Ahmed\"),(\"Leo\",\"Messi\")]\n",
    "print(a)\n",
    "print(a[0])\n",
    "print(a[0][0])"
   ]
  },
  {
   "cell_type": "code",
   "execution_count": 4,
   "id": "69385627",
   "metadata": {},
   "outputs": [
    {
     "name": "stdout",
     "output_type": "stream",
     "text": [
      "Mahad Ahmed\n",
      "('M', 'a', 'h', 'a', 'd', ' ', 'A', 'h', 'm', 'e', 'd')\n"
     ]
    }
   ],
   "source": [
    "a = tuple(input())\n",
    "print(a)"
   ]
  },
  {
   "cell_type": "code",
   "execution_count": 5,
   "id": "ed9a747e",
   "metadata": {},
   "outputs": [
    {
     "name": "stdout",
     "output_type": "stream",
     "text": [
      "(1, 2, [3, 4])\n",
      "(1, 2, [5, 4])\n"
     ]
    }
   ],
   "source": [
    "#changing list inside a tuple is possible\n",
    "a = (1,2,[3,4])\n",
    "print(a)\n",
    "a[2][0]= 5\n",
    "print(a)"
   ]
  },
  {
   "cell_type": "code",
   "execution_count": 8,
   "id": "eb2325de",
   "metadata": {},
   "outputs": [
    {
     "name": "stdout",
     "output_type": "stream",
     "text": [
      "Mahad Ahmed\n",
      "2\n"
     ]
    }
   ],
   "source": [
    "a = tuple(input())\n",
    "print(a.count('a'))"
   ]
  },
  {
   "cell_type": "code",
   "execution_count": 17,
   "id": "ac61c5fc",
   "metadata": {},
   "outputs": [
    {
     "name": "stdout",
     "output_type": "stream",
     "text": [
      "{1: 'Apple', 2: 'Banana', 3: 'Orange'}\n",
      "Apple\n",
      "Afzal\n"
     ]
    }
   ],
   "source": [
    "# Dictionaries\n",
    "d1 = {1:\"Apple\",2:\"Banana\",3:\"Orange\"}\n",
    "print(d1)\n",
    "print(d1[1])\n",
    "\n",
    "d2 = {\"Mahad\":\"Ahmed\",\"Usman\":\"fzal\"}\n",
    "d2['Usman']=\"Afzal\"\n",
    "print(d2['Usman'])"
   ]
  },
  {
   "cell_type": "code",
   "execution_count": 23,
   "id": "d47a95fb",
   "metadata": {},
   "outputs": [
    {
     "name": "stdout",
     "output_type": "stream",
     "text": [
      "{1, 2, 5, 6}\n",
      "{1, 2, 4, 5, 6}\n",
      "{1, 2, 3, 4, 5, 6, 7}\n"
     ]
    }
   ],
   "source": [
    "# Sets\n",
    "\n",
    "#No Duplicates allowed\n",
    "my_set = {1,2,5,6}\n",
    "print(my_set)\n",
    "\n",
    "#Add an element\n",
    "my_set.add(4)\n",
    "print(my_set)\n",
    "\n",
    "#Add multiple\n",
    "my_set.update([3,7])\n",
    "print(my_set)"
   ]
  },
  {
   "cell_type": "code",
   "execution_count": null,
   "id": "1953955a",
   "metadata": {},
   "outputs": [],
   "source": []
  }
 ],
 "metadata": {
  "kernelspec": {
   "display_name": "Python 3 (ipykernel)",
   "language": "python",
   "name": "python3"
  },
  "language_info": {
   "codemirror_mode": {
    "name": "ipython",
    "version": 3
   },
   "file_extension": ".py",
   "mimetype": "text/x-python",
   "name": "python",
   "nbconvert_exporter": "python",
   "pygments_lexer": "ipython3",
   "version": "3.9.16"
  }
 },
 "nbformat": 4,
 "nbformat_minor": 5
}
