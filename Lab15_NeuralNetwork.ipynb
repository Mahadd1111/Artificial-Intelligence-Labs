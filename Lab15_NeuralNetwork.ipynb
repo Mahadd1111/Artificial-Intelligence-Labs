{
 "cells": [
  {
   "cell_type": "code",
   "execution_count": 1,
   "metadata": {},
   "outputs": [],
   "source": [
    "import pandas\n",
    "import numpy\n",
    "import matplotlib.pyplot as plt\n",
    "from torch.utils.data import Dataset, DataLoader\n",
    "from torch import nn\n",
    "from torch import optim\n",
    "from torch.nn import functional as F\n",
    "from torch.autograd import Variable\n",
    "from sklearn import datasets\n",
    "import torch"
   ]
  },
  {
   "cell_type": "code",
   "execution_count": 5,
   "metadata": {},
   "outputs": [
    {
     "data": {
      "text/html": [
       "<div>\n",
       "<style scoped>\n",
       "    .dataframe tbody tr th:only-of-type {\n",
       "        vertical-align: middle;\n",
       "    }\n",
       "\n",
       "    .dataframe tbody tr th {\n",
       "        vertical-align: top;\n",
       "    }\n",
       "\n",
       "    .dataframe thead th {\n",
       "        text-align: right;\n",
       "    }\n",
       "</style>\n",
       "<table border=\"1\" class=\"dataframe\">\n",
       "  <thead>\n",
       "    <tr style=\"text-align: right;\">\n",
       "      <th></th>\n",
       "      <th>sepal_length</th>\n",
       "      <th>sepal_width</th>\n",
       "      <th>petal_length</th>\n",
       "      <th>petal_width</th>\n",
       "      <th>target</th>\n",
       "    </tr>\n",
       "  </thead>\n",
       "  <tbody>\n",
       "    <tr>\n",
       "      <th>0</th>\n",
       "      <td>5.1</td>\n",
       "      <td>3.5</td>\n",
       "      <td>1.4</td>\n",
       "      <td>0.2</td>\n",
       "      <td>0</td>\n",
       "    </tr>\n",
       "    <tr>\n",
       "      <th>1</th>\n",
       "      <td>4.9</td>\n",
       "      <td>3.0</td>\n",
       "      <td>1.4</td>\n",
       "      <td>0.2</td>\n",
       "      <td>0</td>\n",
       "    </tr>\n",
       "    <tr>\n",
       "      <th>2</th>\n",
       "      <td>4.7</td>\n",
       "      <td>3.2</td>\n",
       "      <td>1.3</td>\n",
       "      <td>0.2</td>\n",
       "      <td>0</td>\n",
       "    </tr>\n",
       "    <tr>\n",
       "      <th>3</th>\n",
       "      <td>4.6</td>\n",
       "      <td>3.1</td>\n",
       "      <td>1.5</td>\n",
       "      <td>0.2</td>\n",
       "      <td>0</td>\n",
       "    </tr>\n",
       "    <tr>\n",
       "      <th>4</th>\n",
       "      <td>5.0</td>\n",
       "      <td>3.6</td>\n",
       "      <td>1.4</td>\n",
       "      <td>0.2</td>\n",
       "      <td>0</td>\n",
       "    </tr>\n",
       "  </tbody>\n",
       "</table>\n",
       "</div>"
      ],
      "text/plain": [
       "   sepal_length  sepal_width  petal_length  petal_width  target\n",
       "0           5.1          3.5           1.4          0.2       0\n",
       "1           4.9          3.0           1.4          0.2       0\n",
       "2           4.7          3.2           1.3          0.2       0\n",
       "3           4.6          3.1           1.5          0.2       0\n",
       "4           5.0          3.6           1.4          0.2       0"
      ]
     },
     "execution_count": 5,
     "metadata": {},
     "output_type": "execute_result"
    }
   ],
   "source": [
    "read_data = datasets.load_iris()\n",
    "data = read_data.data\n",
    "target = read_data.target\n",
    "data = pandas.DataFrame(data)\n",
    "target = pandas.DataFrame(target)\n",
    "data = pandas.concat([data, target], axis=1)\n",
    "data.columns = ['sepal_length', 'sepal_width', 'petal_length', 'petal_width', 'target']\n",
    "data.head()"
   ]
  },
  {
   "cell_type": "code",
   "execution_count": 12,
   "metadata": {},
   "outputs": [],
   "source": [
    "# Split the data into train and test\n",
    "train = data.sample(frac=0.8, random_state=200)\n",
    "test = data.drop(train.index)\n",
    "\n",
    "# Convert the data into tensors\n",
    "train_x = torch.from_numpy(train[['sepal_length', 'sepal_width', 'petal_length', 'petal_width']].values).float()\n",
    "train_y = torch.from_numpy(train[['target']].values)\n",
    "test_x = torch.from_numpy(test[['sepal_length', 'sepal_width', 'petal_length', 'petal_width']].values).float()\n",
    "test_y = torch.from_numpy(test[['target']].values)"
   ]
  },
  {
   "cell_type": "code",
   "execution_count": 13,
   "metadata": {},
   "outputs": [],
   "source": [
    "class Model(nn.Module):\n",
    "    def __init__(self):\n",
    "        super(Model, self).__init__()\n",
    "        self.layer1 =  nn.Linear(4, 8)\n",
    "        self.a1 = nn.ReLU()\n",
    "        self.layer2 = nn.Linear(8, 16)\n",
    "        self.a2 = nn.Sigmoid()\n",
    "        self.layer3 = nn.Linear(16, 10)\n",
    "        self.a3 = nn.ReLU()\n",
    "        self.layer4 = nn.Linear(10,3)\n",
    "        \n",
    "    def forward(self, x):\n",
    "        x = self.layer1(x)\n",
    "        x = self.a1(x)\n",
    "        x = self.layer2(x)\n",
    "        x = self.a2(x)\n",
    "        x = self.layer3(x)\n",
    "        x = self.a3(x)\n",
    "        x = self.layer4(x)\n",
    "        return x"
   ]
  },
  {
   "cell_type": "code",
   "execution_count": 15,
   "metadata": {},
   "outputs": [
    {
     "data": {
      "text/plain": [
       "tensor([[1, 0, 0],\n",
       "        [1, 0, 0],\n",
       "        [1, 0, 0],\n",
       "        [1, 0, 0],\n",
       "        [1, 0, 0],\n",
       "        [1, 0, 0],\n",
       "        [1, 0, 0],\n",
       "        [1, 0, 0],\n",
       "        [0, 1, 0],\n",
       "        [0, 1, 0],\n",
       "        [0, 1, 0],\n",
       "        [0, 1, 0],\n",
       "        [0, 1, 0],\n",
       "        [0, 1, 0],\n",
       "        [0, 1, 0],\n",
       "        [0, 1, 0],\n",
       "        [0, 1, 0],\n",
       "        [0, 1, 0],\n",
       "        [0, 0, 1],\n",
       "        [0, 0, 1],\n",
       "        [0, 0, 1],\n",
       "        [0, 0, 1],\n",
       "        [0, 0, 1],\n",
       "        [0, 0, 1],\n",
       "        [0, 0, 1],\n",
       "        [0, 0, 1],\n",
       "        [0, 0, 1],\n",
       "        [0, 0, 1],\n",
       "        [0, 0, 1],\n",
       "        [0, 0, 1]])"
      ]
     },
     "execution_count": 15,
     "metadata": {},
     "output_type": "execute_result"
    }
   ],
   "source": [
    "# One hot encoding of the target\n",
    "train_y_one_hot = F.one_hot(train_y.squeeze().long())\n",
    "test_y_one_hot = F.one_hot(test_y.squeeze().long())\n",
    "\n",
    "test_y_one_hot"
   ]
  },
  {
   "cell_type": "code",
   "execution_count": 16,
   "metadata": {},
   "outputs": [
    {
     "data": {
      "text/plain": [
       "torch.Size([120, 3])"
      ]
     },
     "execution_count": 16,
     "metadata": {},
     "output_type": "execute_result"
    }
   ],
   "source": [
    "train_y_one_hot.shape"
   ]
  },
  {
   "cell_type": "code",
   "execution_count": 17,
   "metadata": {},
   "outputs": [
    {
     "name": "stdout",
     "output_type": "stream",
     "text": [
      "torch.Size([120, 4])\n",
      "torch.Size([120, 3])\n",
      "torch.Size([30, 4])\n",
      "torch.Size([30, 3])\n",
      "torch.Size([120, 1])\n",
      "torch.Size([30, 1])\n"
     ]
    }
   ],
   "source": [
    "print(train_x.shape)\n",
    "print(train_y_one_hot.shape)\n",
    "print(test_x.shape)\n",
    "print(test_y_one_hot.shape)\n",
    "print(train_y.shape)\n",
    "print(test_y.shape)"
   ]
  },
  {
   "cell_type": "code",
   "execution_count": 18,
   "metadata": {},
   "outputs": [
    {
     "name": "stdout",
     "output_type": "stream",
     "text": [
      "Epoch: 0, Loss: 1.1155253648757935\n",
      "Epoch: 100, Loss: 1.1001092195510864\n",
      "Epoch: 200, Loss: 1.0955965518951416\n",
      "Epoch: 300, Loss: 1.0919525623321533\n",
      "Epoch: 400, Loss: 1.0874583721160889\n",
      "Epoch: 500, Loss: 1.079559564590454\n",
      "Epoch: 600, Loss: 1.0622702836990356\n",
      "Epoch: 700, Loss: 1.0151225328445435\n",
      "Epoch: 800, Loss: 0.8823279738426208\n",
      "Epoch: 900, Loss: 0.6774269342422485\n",
      "Epoch: 1000, Loss: 0.5413885712623596\n",
      "Epoch: 1100, Loss: 0.4851488173007965\n",
      "Epoch: 1200, Loss: 0.45431649684906006\n",
      "Epoch: 1300, Loss: 0.4235401749610901\n",
      "Epoch: 1400, Loss: 0.38327592611312866\n",
      "Epoch: 1500, Loss: 0.33239439129829407\n",
      "Epoch: 1600, Loss: 0.27632761001586914\n",
      "Epoch: 1700, Loss: 0.22350762784481049\n",
      "Epoch: 1800, Loss: 0.18105506896972656\n",
      "Epoch: 1900, Loss: 0.15007668733596802\n",
      "Epoch: 2000, Loss: 0.12812979519367218\n",
      "Epoch: 2100, Loss: 0.11245856434106827\n",
      "Epoch: 2200, Loss: 0.10098132491111755\n",
      "Epoch: 2300, Loss: 0.09233304858207703\n",
      "Epoch: 2400, Loss: 0.08563527464866638\n",
      "Epoch: 2500, Loss: 0.08032073825597763\n",
      "Epoch: 2600, Loss: 0.07600876688957214\n",
      "Epoch: 2700, Loss: 0.07243943959474564\n",
      "Epoch: 2800, Loss: 0.06943311542272568\n",
      "Epoch: 2900, Loss: 0.06686392426490784\n",
      "Epoch: 3000, Loss: 0.06464094668626785\n",
      "Epoch: 3100, Loss: 0.06269866973161697\n",
      "Epoch: 3200, Loss: 0.06098337098956108\n",
      "Epoch: 3300, Loss: 0.059455059468746185\n",
      "Epoch: 3400, Loss: 0.05808353051543236\n",
      "Epoch: 3500, Loss: 0.05684872344136238\n",
      "Epoch: 3600, Loss: 0.05572926625609398\n",
      "Epoch: 3700, Loss: 0.054707590490579605\n",
      "Epoch: 3800, Loss: 0.05377110466361046\n",
      "Epoch: 3900, Loss: 0.05290986970067024\n",
      "Epoch: 4000, Loss: 0.05211680382490158\n",
      "Epoch: 4100, Loss: 0.05138251557946205\n",
      "Epoch: 4200, Loss: 0.05070137977600098\n",
      "Epoch: 4300, Loss: 0.05006770044565201\n",
      "Epoch: 4400, Loss: 0.04947683960199356\n",
      "Epoch: 4500, Loss: 0.048924531787633896\n",
      "Epoch: 4600, Loss: 0.048407915979623795\n",
      "Epoch: 4700, Loss: 0.04792291298508644\n",
      "Epoch: 4800, Loss: 0.04746678099036217\n",
      "Epoch: 4900, Loss: 0.04703756794333458\n",
      "Epoch: 5000, Loss: 0.046632587909698486\n",
      "Epoch: 5100, Loss: 0.046249862760305405\n",
      "Epoch: 5200, Loss: 0.04588838666677475\n",
      "Epoch: 5300, Loss: 0.045546770095825195\n",
      "Epoch: 5400, Loss: 0.045223113149404526\n",
      "Epoch: 5500, Loss: 0.044915396720170975\n",
      "Epoch: 5600, Loss: 0.04462314397096634\n",
      "Epoch: 5700, Loss: 0.04434572532773018\n",
      "Epoch: 5800, Loss: 0.044081032276153564\n",
      "Epoch: 5900, Loss: 0.043828390538692474\n",
      "Epoch: 6000, Loss: 0.0435868501663208\n",
      "Epoch: 6100, Loss: 0.043355826288461685\n",
      "Epoch: 6200, Loss: 0.043134305626153946\n",
      "Epoch: 6300, Loss: 0.042921628803014755\n",
      "Epoch: 6400, Loss: 0.042717281728982925\n",
      "Epoch: 6500, Loss: 0.042520638555288315\n",
      "Epoch: 6600, Loss: 0.042331382632255554\n",
      "Epoch: 6700, Loss: 0.04214925691485405\n",
      "Epoch: 6800, Loss: 0.04197347164154053\n",
      "Epoch: 6900, Loss: 0.04180388152599335\n",
      "Epoch: 7000, Loss: 0.041640374809503555\n",
      "Epoch: 7100, Loss: 0.04148218780755997\n",
      "Epoch: 7200, Loss: 0.04132901877164841\n",
      "Epoch: 7300, Loss: 0.041180722415447235\n",
      "Epoch: 7400, Loss: 0.041036829352378845\n",
      "Epoch: 7500, Loss: 0.04089713096618652\n",
      "Epoch: 7600, Loss: 0.040761686861515045\n",
      "Epoch: 7700, Loss: 0.040630146861076355\n",
      "Epoch: 7800, Loss: 0.04050219804048538\n",
      "Epoch: 7900, Loss: 0.04037784785032272\n"
     ]
    },
    {
     "data": {
      "image/png": "[encoded data removed]",
      "text/plain": [
       "<Figure size 640x480 with 1 Axes>"
      ]
     },
     "metadata": {},
     "output_type": "display_data"
    }
   ],
   "source": [
    "model = Model()\n",
    "criterion = nn.CrossEntropyLoss()\n",
    "optimizer = optim.SGD(model.parameters(), lr=0.02)\n",
    "losses = []\n",
    "for epoch in range(8000):\n",
    "    optimizer.zero_grad()\n",
    "    out = model(train_x)\n",
    "    train_y_one_hot = train_y_one_hot.float()\n",
    "    loss = criterion(out, train_y_one_hot)\n",
    "    losses.append(loss.item())\n",
    "    loss.backward()\n",
    "    optimizer.step()\n",
    "    if epoch % 100 == 0:\n",
    "        print('Epoch: {}, Loss: {}'.format(epoch, loss.item()))\n",
    "\n",
    "plt.plot(losses)\n",
    "plt.show()"
   ]
  },
  {
   "cell_type": "code",
   "execution_count": 19,
   "metadata": {},
   "outputs": [
    {
     "name": "stdout",
     "output_type": "stream",
     "text": [
      "Predicted:  tensor([0, 0, 0, 0, 0, 0, 0, 0, 1, 1, 1, 1, 2, 1, 1, 1, 1, 1, 2, 2, 2, 2, 2, 2,\n",
      "        2, 2, 2, 2, 2, 2])\n",
      "Actual:  tensor([0, 0, 0, 0, 0, 0, 0, 0, 1, 1, 1, 1, 1, 1, 1, 1, 1, 1, 2, 2, 2, 2, 2, 2,\n",
      "        2, 2, 2, 2, 2, 2], dtype=torch.int32)\n",
      "Accuracy of the network on the 30 test images: 96 %\n"
     ]
    }
   ],
   "source": [
    "# Predict the test data\n",
    "out = model(test_x)\n",
    "_, predicted = torch.max(out.data, 1)\n",
    "print('Predicted: ', predicted)\n",
    "print('Actual: ', test_y.squeeze())\n",
    "\n",
    "# Calculate the accuracy\n",
    "correct = 0\n",
    "total = len(predicted)\n",
    "for i in range(total):\n",
    "    if predicted[i] == test_y[i]:\n",
    "        correct += 1\n",
    "print('Accuracy of the network on the 30 test images: %d %%' % (\n",
    "    100 * correct / total))"
   ]
  },
  {
   "cell_type": "code",
   "execution_count": null,
   "metadata": {},
   "outputs": [],
   "source": []
  }
 ],
 "metadata": {
  "kernelspec": {
   "display_name": "Python 3 (ipykernel)",
   "language": "python",
   "name": "python3"
  },
  "language_info": {
   "codemirror_mode": {
    "name": "ipython",
    "version": 3
   },
   "file_extension": ".py",
   "mimetype": "text/x-python",
   "name": "python",
   "nbconvert_exporter": "python",
   "pygments_lexer": "ipython3",
   "version": "3.9.16"
  },
  "vscode": {
   "interpreter": {
    "hash": "3ce2397aef71c0d12f785fd87c0b7fef94ead8d2f4d1a9ae094c6557efed0fcb"
   }
  }
 },
 "nbformat": 4,
 "nbformat_minor": 2
}
