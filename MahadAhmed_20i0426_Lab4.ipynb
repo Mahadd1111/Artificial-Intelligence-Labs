{
 "cells": [
  {
   "cell_type": "code",
   "execution_count": 1,
   "id": "ce5025f9",
   "metadata": {},
   "outputs": [],
   "source": [
    "import random\n",
    "import math"
   ]
  },
  {
   "cell_type": "code",
   "execution_count": 2,
   "id": "fb918a11",
   "metadata": {},
   "outputs": [],
   "source": [
    "visited=[]"
   ]
  },
  {
   "cell_type": "code",
   "execution_count": 3,
   "id": "140d1832",
   "metadata": {},
   "outputs": [],
   "source": [
    "def printPuzzle(board):\n",
    "    for row in board:\n",
    "        print(\"---------\")\n",
    "        print(\"|\",row[0],\"|\",row[1],\"|\")\n",
    "    print(\"---------\")\n",
    "    print()"
   ]
  },
  {
   "cell_type": "code",
   "execution_count": 4,
   "id": "27ee2feb",
   "metadata": {},
   "outputs": [],
   "source": [
    "def checkVisited(board):\n",
    "    for state in visited:\n",
    "        if(state==board):\n",
    "            return True\n",
    "    return False"
   ]
  },
  {
   "cell_type": "code",
   "execution_count": 5,
   "id": "9222b62b",
   "metadata": {},
   "outputs": [],
   "source": [
    "def moveX(board,val,r,c):\n",
    "    if(c==0 and val<0):\n",
    "        return\n",
    "    elif(c==2 and val>0):\n",
    "        return\n",
    "    else:\n",
    "        temp=board[r][c]\n",
    "        board[r][c]=board[r][c+val]\n",
    "        board[r][c+val]=temp\n",
    "        flag=checkVisited(board)\n",
    "        if(flag==True):\n",
    "            temp=board[r][c]\n",
    "            board[r][c]=board[r][c+val]\n",
    "            board[r][c+val]=temp\n",
    "    return board"
   ]
  },
  {
   "cell_type": "code",
   "execution_count": 6,
   "id": "0e8ce829",
   "metadata": {},
   "outputs": [],
   "source": [
    "def moveY(board,val,r,c):\n",
    "    if(r==0 and val<0):\n",
    "        return\n",
    "    elif(r==2 and val>0):\n",
    "        return\n",
    "    else:\n",
    "        temp=board[r][c]\n",
    "        board[r][c]=board[r+val][c]\n",
    "        board[r+val][c]=temp\n",
    "        flag=checkVisited(board)\n",
    "        if(flag==True):\n",
    "            temp=board[r][c]\n",
    "            board[r][c]=board[r+val][c]\n",
    "            board[r+val][c]=temp\n",
    "    return board"
   ]
  },
  {
   "cell_type": "code",
   "execution_count": 14,
   "id": "92cf5371",
   "metadata": {},
   "outputs": [],
   "source": [
    "def solvePuzzle(puzzle):\n",
    "    print(type(puzzle))\n",
    "    print(\"Puzzle is: \",puzzle)\n",
    "    print(\"Type of puzzle is:\",type(puzzle))\n",
    "    startPuzzle=[[2,8,3],[1,6,4],[7,0,5]]\n",
    "    endPuzzle=[[1,2,3],[4,5,6],[7,8,0]]\n",
    "    while(puzzle!=endPuzzle):\n",
    "        count=0\n",
    "        visited.append(puzzle)\n",
    "        \n",
    "        #generate random numbers\n",
    "        num1=math.floor(random.randint(0,1))\n",
    "        num2=math.floor(random.randint(0,1))\n",
    "        if(num2==0):\n",
    "            change=1\n",
    "        else:\n",
    "            change=-1\n",
    "        \n",
    "        #get Row,col of 0 val, i dont know why this line gives error, the code is correct\n",
    "#         row=0\n",
    "#         col=0\n",
    "#         for i in range(3):\n",
    "#             for j in range(3):\n",
    "#                 print(f\"Puzzle[{i}][{j}]: \",puzzle[i][j])\n",
    "#                 if puzzle[i][j]==0:\n",
    "#                     print(i,j)\n",
    "#                     row, col = i, j\n",
    "#                     break\n",
    "        for indx,\n",
    "        \n",
    "        #make change\n",
    "        if(num1==0):\n",
    "            puzzle=moveX(puzzle,change,row,col)\n",
    "            count=count+1\n",
    "        else:\n",
    "            puzzle=moveY(puzzle,change,row,col)\n",
    "            count=count+1\n",
    "            \n",
    "    print(f\"Original Puzzle was : {startPuzzle}\")\n",
    "    print(f\"End Puzzle is: {endPuzzle}\")\n",
    "    print(f\"Iterations taken: {count}\")"
   ]
  },
  {
   "cell_type": "code",
   "execution_count": 13,
   "id": "83e9f54e",
   "metadata": {},
   "outputs": [
    {
     "name": "stdout",
     "output_type": "stream",
     "text": [
      "<class 'list'>\n",
      "Puzzle is:  [[2, 8, 3], [1, 6, 4], [7, 0, 5]]\n",
      "Type of puzzle is: <class 'list'>\n",
      "Puzzle[0][0]:  2\n",
      "Puzzle[0][1]:  8\n",
      "Puzzle[0][2]:  3\n",
      "Puzzle[1][0]:  1\n",
      "Puzzle[1][1]:  6\n",
      "Puzzle[1][2]:  4\n",
      "Puzzle[2][0]:  7\n",
      "Puzzle[2][1]:  0\n",
      "Puzzle[2][2]:  5\n",
      "Puzzle[0][0]:  2\n",
      "Puzzle[0][1]:  8\n",
      "Puzzle[0][2]:  3\n",
      "Puzzle[1][0]:  1\n",
      "Puzzle[1][1]:  6\n",
      "Puzzle[1][2]:  4\n",
      "Puzzle[2][0]:  7\n",
      "Puzzle[2][1]:  0\n",
      "Puzzle[2][2]:  5\n"
     ]
    },
    {
     "ename": "TypeError",
     "evalue": "'NoneType' object is not subscriptable",
     "output_type": "error",
     "traceback": [
      "\u001b[1;31m---------------------------------------------------------------------------\u001b[0m",
      "\u001b[1;31mTypeError\u001b[0m                                 Traceback (most recent call last)",
      "\u001b[1;32m~\\AppData\\Local\\Temp\\ipykernel_7332\\2426686003.py\u001b[0m in \u001b[0;36m<module>\u001b[1;34m\u001b[0m\n\u001b[0;32m      5\u001b[0m ]\n\u001b[0;32m      6\u001b[0m \u001b[1;33m\u001b[0m\u001b[0m\n\u001b[1;32m----> 7\u001b[1;33m \u001b[0msolvePuzzle\u001b[0m\u001b[1;33m(\u001b[0m\u001b[0mpuzzle\u001b[0m\u001b[1;33m)\u001b[0m\u001b[1;33m\u001b[0m\u001b[1;33m\u001b[0m\u001b[0m\n\u001b[0m",
      "\u001b[1;32m~\\AppData\\Local\\Temp\\ipykernel_7332\\3930574806.py\u001b[0m in \u001b[0;36msolvePuzzle\u001b[1;34m(puzzle)\u001b[0m\n\u001b[0;32m     22\u001b[0m         \u001b[1;32mfor\u001b[0m \u001b[0mi\u001b[0m \u001b[1;32min\u001b[0m \u001b[0mrange\u001b[0m\u001b[1;33m(\u001b[0m\u001b[1;36m3\u001b[0m\u001b[1;33m)\u001b[0m\u001b[1;33m:\u001b[0m\u001b[1;33m\u001b[0m\u001b[1;33m\u001b[0m\u001b[0m\n\u001b[0;32m     23\u001b[0m             \u001b[1;32mfor\u001b[0m \u001b[0mj\u001b[0m \u001b[1;32min\u001b[0m \u001b[0mrange\u001b[0m\u001b[1;33m(\u001b[0m\u001b[1;36m3\u001b[0m\u001b[1;33m)\u001b[0m\u001b[1;33m:\u001b[0m\u001b[1;33m\u001b[0m\u001b[1;33m\u001b[0m\u001b[0m\n\u001b[1;32m---> 24\u001b[1;33m                 \u001b[0mprint\u001b[0m\u001b[1;33m(\u001b[0m\u001b[1;34mf\"Puzzle[{i}][{j}]: \"\u001b[0m\u001b[1;33m,\u001b[0m\u001b[0mpuzzle\u001b[0m\u001b[1;33m[\u001b[0m\u001b[0mi\u001b[0m\u001b[1;33m]\u001b[0m\u001b[1;33m[\u001b[0m\u001b[0mj\u001b[0m\u001b[1;33m]\u001b[0m\u001b[1;33m)\u001b[0m\u001b[1;33m\u001b[0m\u001b[1;33m\u001b[0m\u001b[0m\n\u001b[0m\u001b[0;32m     25\u001b[0m                 \u001b[1;32mif\u001b[0m \u001b[0mpuzzle\u001b[0m\u001b[1;33m[\u001b[0m\u001b[0mi\u001b[0m\u001b[1;33m]\u001b[0m\u001b[1;33m[\u001b[0m\u001b[0mj\u001b[0m\u001b[1;33m]\u001b[0m\u001b[1;33m==\u001b[0m\u001b[1;32mNone\u001b[0m\u001b[1;33m:\u001b[0m\u001b[1;33m\u001b[0m\u001b[1;33m\u001b[0m\u001b[0m\n\u001b[0;32m     26\u001b[0m                     \u001b[0mprint\u001b[0m\u001b[1;33m(\u001b[0m\u001b[0mi\u001b[0m\u001b[1;33m,\u001b[0m\u001b[0mj\u001b[0m\u001b[1;33m)\u001b[0m\u001b[1;33m\u001b[0m\u001b[1;33m\u001b[0m\u001b[0m\n",
      "\u001b[1;31mTypeError\u001b[0m: 'NoneType' object is not subscriptable"
     ]
    }
   ],
   "source": [
    "puzzle = [\n",
    "    [2,8,3],\n",
    "    [1,6,4],\n",
    "    [7,0,5]\n",
    "]\n",
    "\n",
    "solvePuzzle(puzzle)"
   ]
  },
  {
   "cell_type": "code",
   "execution_count": null,
   "id": "d7172540",
   "metadata": {},
   "outputs": [],
   "source": []
  },
  {
   "cell_type": "code",
   "execution_count": null,
   "id": "d5fa8875",
   "metadata": {},
   "outputs": [],
   "source": []
  }
 ],
 "metadata": {
  "kernelspec": {
   "display_name": "Python 3 (ipykernel)",
   "language": "python",
   "name": "python3"
  },
  "language_info": {
   "codemirror_mode": {
    "name": "ipython",
    "version": 3
   },
   "file_extension": ".py",
   "mimetype": "text/x-python",
   "name": "python",
   "nbconvert_exporter": "python",
   "pygments_lexer": "ipython3",
   "version": "3.9.16"
  }
 },
 "nbformat": 4,
 "nbformat_minor": 5
}
